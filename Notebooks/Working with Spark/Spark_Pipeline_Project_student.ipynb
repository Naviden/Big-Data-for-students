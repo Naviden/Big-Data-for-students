{
 "cells": [
  {
   "cell_type": "markdown",
   "id": "89beeb2b",
   "metadata": {},
   "source": [
    "\n",
    "# Hands-on Project: Spark Pipeline in Databricks\n",
    "\n",
    "This notebook will guide you through the process of building a Spark pipeline on Databricks using the Airbnb NYC listings dataset.\n",
    "\n",
    "## Step 1: Initialize Spark Session\n",
    "First, we need to initialize the Spark session.\n"
   ]
  },
  {
   "cell_type": "code",
   "execution_count": null,
   "id": "89e9de69",
   "metadata": {},
   "outputs": [],
   "source": [
    "\n",
    "# Initialize Spark session\n",
    "from pyspark.sql import SparkSession\n",
    "\n",
    "spark = SparkSession.builder.appName(\"Airbnb NYC Data Analysis\").getOrCreate()\n"
   ]
  },
  {
   "cell_type": "markdown",
   "id": "c42d424d",
   "metadata": {},
   "source": [
    "\n",
    "## Step 2: Load the Dataset into Databricks\n",
    "We will load the dataset into a Spark DataFrame.\n"
   ]
  },
  {
   "cell_type": "code",
   "execution_count": null,
   "id": "83341204",
   "metadata": {},
   "outputs": [],
   "source": [
    "\n",
    "# Example: Load CSV into a Spark DataFrame\n",
    "file_path = \"the csv name is AB_NYC_2019!\"\n",
    "df = spark.read.csv(file_path, header=True, inferSchema=True)\n",
    "\n",
    "# Show the first few rows and schema\n",
    "# YOUR CODE HERE\n"
   ]
  },
  {
   "cell_type": "markdown",
   "id": "4d919d00",
   "metadata": {},
   "source": [
    "\n",
    "## Step 3: Selecting and Renaming Important Columns\n",
    "To make the dataset more manageable, we'll select a subset of important columns and rename them for clarity.\n"
   ]
  },
  {
   "cell_type": "code",
   "execution_count": null,
   "id": "9be087af",
   "metadata": {},
   "outputs": [],
   "source": [
    "\n",
    "# Select specific columns and rename them for simplicity\n",
    "selected_columns_df = df.select(\n",
    "    df.id.alias(\"listing_id\"),\n",
    "    df.name.alias(\"listing_name\"),\n",
    "    df.host_id.alias(\"host_id\"),\n",
    "    df.neighbourhood.alias(\"neighborhood\"),\n",
    "    df.price.alias(\"price_per_night\"),\n",
    "    df.minimum_nights.alias(\"min_nights\"),\n",
    "    df.number_of_reviews.alias(\"reviews_count\"),\n",
    "    df.availability_365.alias(\"availability\"),\n",
    "    df.room_type.alias(\"room_type\")\n",
    ")\n",
    "\n",
    "# Show the first few rows of the simplified DataFrame\n",
    "selected_columns_df.show(5)\n"
   ]
  },
  {
   "cell_type": "markdown",
   "id": "35231fcd",
   "metadata": {},
   "source": [
    "\n",
    "## Step 4: Data Exploration and Filtering\n",
    "We'll filter the dataset to include listings in Manhattan with more than 5 reviews.\n"
   ]
  },
  {
   "cell_type": "code",
   "execution_count": null,
   "id": "fa4c944b",
   "metadata": {},
   "outputs": [],
   "source": [
    "\n",
    "# Filter listings in Manhattan with more than 1 review\n",
    "# YOUR CODE HERE\n"
   ]
  },
  {
   "cell_type": "markdown",
   "id": "6192ff0b",
   "metadata": {},
   "source": [
    "\n",
    "## Step 5: Data Transformation\n",
    "Next, we'll create a new column that categorizes listings into price tiers: Low, Medium, and High.\n"
   ]
  },
  {
   "cell_type": "code",
   "execution_count": null,
   "id": "65e78c60",
   "metadata": {},
   "outputs": [],
   "source": [
    "\n",
    "from pyspark.sql.functions import when\n",
    "\n",
    "# Convert 'price_per_night' to a numeric type\n",
    "filtered_df = filtered_df.withColumn(\"price_per_night\", filtered_df[\"price_per_night\"].cast(\"float\"))\n",
    "\n",
    "# Create price tiers: Low (<$100), Medium ($100-$200), High (>$200)\n",
    "# YOUR CODE HERE\n",
    "\n",
    "transformed_df.show(5)\n"
   ]
  },
  {
   "cell_type": "markdown",
   "id": "1c815ca4",
   "metadata": {},
   "source": [
    "\n",
    "## Step 6: Aggregation and Analysis\n",
    "Let's calculate the average price per neighborhood in Manhattan and the average number of reviews for each price tier.\n"
   ]
  },
  {
   "cell_type": "code",
   "execution_count": null,
   "id": "8e395f5f",
   "metadata": {},
   "outputs": [],
   "source": [
    "\n",
    "# Convert 'reviews_count' to numeric type\n",
    "# YOUR CODE HERE\n",
    "# Average price per neighborhood in Manhattan\n",
    "avg_price_neighbourhood = transformed_df.groupBy(\"neighborhood\").avg(\"price_per_night\")\n",
    "avg_price_neighbourhood.show()\n",
    "\n",
    "# Average number of reviews per price tier\n",
    "# YOUR CODE HERE\n"
   ]
  },
  {
   "cell_type": "markdown",
   "id": "86ecc0cf",
   "metadata": {},
   "source": [
    "\n",
    "## Final Thoughts\n",
    "You can expand this project by exploring other datasets, adding new transformations, or experimenting with different types of aggregations.\n"
   ]
  }
 ],
 "metadata": {
  "language_info": {
   "name": "python"
  }
 },
 "nbformat": 4,
 "nbformat_minor": 5
}
