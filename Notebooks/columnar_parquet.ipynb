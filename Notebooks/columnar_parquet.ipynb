{
 "cells": [
  {
   "cell_type": "markdown",
   "id": "30360100",
   "metadata": {},
   "source": [
    "\n",
    "# Handling Parquet Files with Python\n",
    "This notebook demonstrates how to handle Parquet files in Python, along with installation instructions and a comparison between using Excel and Parquet files in terms of performance and operations.\n",
    "\n",
    "## Install Necessary Libraries\n",
    "\n",
    "Make sure you have the necessary libraries installed:\n",
    "\n",
    "```bash\n",
    "pip install pandas pyarrow fastparquet openpyxl\n",
    "```\n"
   ]
  },
  {
   "cell_type": "code",
   "execution_count": null,
   "id": "c7de2a3d",
   "metadata": {},
   "outputs": [],
   "source": [
    "\n",
    "import pandas as pd\n",
    "import numpy as np\n",
    "\n",
    "# Generate sample data\n",
    "np.random.seed(42)\n",
    "data = {\n",
    "    'id': np.arange(1, 1001),\n",
    "    'name': np.random.choice(['Alice', 'Bob', 'Charlie', 'David', 'Eva'], 1000),\n",
    "    'surname': np.random.choice(['Smith', 'Johnson', 'Williams', 'Jones', 'Brown'], 1000),\n",
    "    'email': [f'user{i}@example.com' for i in range(1, 1001)],\n",
    "    'address': np.random.choice(['123 Main St', '456 Oak St', '789 Pine St', '101 Maple St'], 1000)\n",
    "}\n",
    "\n",
    "# Create DataFrame\n",
    "df = pd.DataFrame(data)\n",
    "\n",
    "# Save to Excel and Parquet files\n",
    "df.to_excel('users_info.xlsx', index=False)\n",
    "df.to_parquet('users_info.parquet', index=False)\n",
    "\n",
    "df.head()\n"
   ]
  },
  {
   "cell_type": "code",
   "execution_count": null,
   "id": "97dbfe69",
   "metadata": {},
   "outputs": [],
   "source": [
    "\n",
    "import time\n",
    "\n",
    "# Read and time Excel\n",
    "start_time = time.time()\n",
    "df_excel = pd.read_excel('users_info.xlsx')\n",
    "excel_time = time.time() - start_time\n",
    "print(f\"Time to load Excel file: {excel_time:.4f} seconds\")\n",
    "\n",
    "# Read and time Parquet\n",
    "start_time = time.time()\n",
    "df_parquet = pd.read_parquet('users_info.parquet')\n",
    "parquet_time = time.time() - start_time\n",
    "print(f\"Time to load Parquet file: {parquet_time:.4f} seconds\")\n",
    "\n",
    "# Compare DataFrame sizes\n",
    "print(f\"Excel file size: {df_excel.memory_usage(deep=True).sum() / (1024 * 1024):.2f} MB\")\n",
    "print(f\"Parquet file size: {df_parquet.memory_usage(deep=True).sum() / (1024 * 1024):.2f} MB\")\n"
   ]
  }
 ],
 "metadata": {},
 "nbformat": 4,
 "nbformat_minor": 5
}
