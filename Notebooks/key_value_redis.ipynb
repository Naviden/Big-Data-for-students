{
 "cells": [
  {
   "cell_type": "markdown",
   "id": "9c81485b",
   "metadata": {},
   "source": [
    "\n",
    "# Introduction to py-redis (Key-Value Database)\n",
    "\n",
    "This notebook will guide you through the basic functionalities of `py-redis`, a Python library for working with Redis, a key-value store database.\n",
    "\n",
    "We'll begin by installing and starting a Redis server directly on Google Colab.\n"
   ]
  },
  {
   "cell_type": "code",
   "execution_count": null,
   "id": "49f10ace",
   "metadata": {},
   "outputs": [],
   "source": [
    "\n",
    "# Install Redis server and py-redis\n",
    "!apt-get install redis-server\n",
    "!pip install redis\n"
   ]
  },
  {
   "cell_type": "markdown",
   "id": "e1cfbf9d",
   "metadata": {},
   "source": [
    "\n",
    "## Starting Redis Server\n",
    "\n",
    "Next, we will start the Redis server in the background.\n"
   ]
  },
  {
   "cell_type": "code",
   "execution_count": null,
   "id": "d4179b88",
   "metadata": {},
   "outputs": [],
   "source": [
    "\n",
    "# Start Redis server in the background\n",
    "import os\n",
    "os.system('redis-server --daemonize yes')\n",
    "\n",
    "# Check if Redis server is running\n",
    "os.system('redis-cli ping')\n"
   ]
  },
  {
   "cell_type": "markdown",
   "id": "8b9dc786",
   "metadata": {},
   "source": [
    "\n",
    "## Connecting to Redis\n",
    "\n",
    "Now that the Redis server is running, let's connect to it using `py-redis`.\n"
   ]
  },
  {
   "cell_type": "code",
   "execution_count": null,
   "id": "a42491df",
   "metadata": {},
   "outputs": [],
   "source": [
    "\n",
    "import redis\n",
    "\n",
    "# Connecting to the Redis server running on Colab\n",
    "r = redis.StrictRedis(host='localhost', port=6379, db=0)\n",
    "\n",
    "# Test the connection\n",
    "try:\n",
    "    r.ping()\n",
    "    print(\"Connected to Redis!\")\n",
    "except redis.ConnectionError:\n",
    "    print(\"Failed to connect to Redis.\")\n"
   ]
  },
  {
   "cell_type": "markdown",
   "id": "22d9fb15",
   "metadata": {},
   "source": [
    "\n",
    "## Inserting a Single Key-Value Pair\n",
    "\n",
    "Let's start by inserting a single key-value pair into the Redis database.\n"
   ]
  },
  {
   "cell_type": "code",
   "execution_count": null,
   "id": "051a7c2f",
   "metadata": {},
   "outputs": [],
   "source": [
    "\n",
    "# Inserting a single key-value pair\n",
    "r.set('name', 'John Doe')\n",
    "\n",
    "# Retrieving the value\n",
    "name = r.get('name')\n",
    "print(f\"Stored name: {name.decode('utf-8')}\")\n"
   ]
  },
  {
   "cell_type": "markdown",
   "id": "bf486cc9",
   "metadata": {},
   "source": [
    "\n",
    "## Batch Insert\n",
    "\n",
    "Redis supports batch operations to insert multiple key-value pairs efficiently. We'll use the `mset` method for this.\n"
   ]
  },
  {
   "cell_type": "code",
   "execution_count": null,
   "id": "817f2279",
   "metadata": {},
   "outputs": [],
   "source": [
    "\n",
    "# Batch insert key-value pairs\n",
    "batch_data = {\n",
    "    'age': 30,\n",
    "    'city': 'New York',\n",
    "    'occupation': 'Engineer'\n",
    "}\n",
    "\n",
    "r.mset(batch_data)\n",
    "\n",
    "# Retrieving the values to verify\n",
    "for key in batch_data.keys():\n",
    "    print(f\"{key}: {r.get(key).decode('utf-8')}\")\n"
   ]
  },
  {
   "cell_type": "markdown",
   "id": "e485c798",
   "metadata": {},
   "source": [
    "\n",
    "## Deleting a Key-Value Pair\n",
    "\n",
    "You can delete a key-value pair from the Redis database using the `delete` method.\n"
   ]
  },
  {
   "cell_type": "code",
   "execution_count": null,
   "id": "ae3f8148",
   "metadata": {},
   "outputs": [],
   "source": [
    "\n",
    "# Deleting a key-value pair\n",
    "r.delete('occupation')\n",
    "\n",
    "# Trying to retrieve the deleted key\n",
    "occupation = r.get('occupation')\n",
    "print(f\"Occupation after deletion: {occupation}\")\n"
   ]
  },
  {
   "cell_type": "markdown",
   "id": "fd33ad99",
   "metadata": {},
   "source": [
    "\n",
    "## Additional Redis Features\n",
    "\n",
    "Redis supports many additional features, such as setting a TTL (time-to-live) for a key or incrementing numeric values.\n",
    "\n",
    "### Setting TTL\n",
    "You can set a TTL for a key, after which the key will automatically expire.\n"
   ]
  },
  {
   "cell_type": "code",
   "execution_count": null,
   "id": "51e64d65",
   "metadata": {},
   "outputs": [],
   "source": [
    "\n",
    "# Setting a key with a TTL of 10 seconds\n",
    "r.set('temp_key', 'This is temporary', ex=10)\n",
    "print(f\"temp_key: {r.get('temp_key').decode('utf-8')}\")\n",
    "\n",
    "# After 10 seconds, the key will expire\n",
    "import time\n",
    "time.sleep(10)\n",
    "\n",
    "temp_key = r.get('temp_key')\n",
    "print(f\"temp_key after 10 seconds: {temp_key}\")\n"
   ]
  },
  {
   "cell_type": "markdown",
   "id": "266213e7",
   "metadata": {},
   "source": [
    "\n",
    "### Incrementing Numeric Values\n",
    "\n",
    "Redis allows you to increment numeric values atomically, which is useful in many scenarios such as counters.\n"
   ]
  },
  {
   "cell_type": "code",
   "execution_count": null,
   "id": "e684b99b",
   "metadata": {},
   "outputs": [],
   "source": [
    "\n",
    "# Incrementing a numeric value\n",
    "r.set('counter', 0)\n",
    "r.incr('counter')\n",
    "print(f\"Counter: {r.get('counter').decode('utf-8')}\")\n",
    "\n",
    "# Incrementing by 5\n",
    "r.incrby('counter', 5)\n",
    "print(f\"Counter after incrementing by 5: {r.get('counter').decode('utf-8')}\")\n"
   ]
  },
  {
   "cell_type": "markdown",
   "id": "9de9e47a",
   "metadata": {},
   "source": [
    "\n",
    "## Conclusion\n",
    "\n",
    "This notebook demonstrated basic Redis operations using the `py-redis` library. We covered:\n",
    "\n",
    "1. Installing and starting Redis on Colab.\n",
    "2. Inserting single and batch key-value pairs.\n",
    "3. Deleting records.\n",
    "4. Additional operations like setting TTL and incrementing values.\n",
    "\n",
    "Redis is a powerful key-value database suitable for a wide variety of use cases, from caching to real-time analytics.\n"
   ]
  }
 ],
 "metadata": {},
 "nbformat": 4,
 "nbformat_minor": 5
}
