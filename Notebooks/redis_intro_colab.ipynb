{
  "cells": [
    {
      "cell_type": "markdown",
      "id": "9c81485b",
      "metadata": {
        "id": "9c81485b"
      },
      "source": [
        "\n",
        "# Introduction to py-redis (Key-Value Database)\n",
        "\n",
        "This notebook will guide you through the basic functionalities of `py-redis`, a Python library for working with Redis, a key-value store database.\n",
        "\n",
        "We'll begin by installing and starting a Redis server directly on Google Colab.\n"
      ]
    },
    {
      "cell_type": "code",
      "execution_count": 1,
      "id": "49f10ace",
      "metadata": {
        "colab": {
          "base_uri": "https://localhost:8080/"
        },
        "id": "49f10ace",
        "outputId": "23545d4b-eeab-40d8-e0ca-b95a74f5f6e7"
      },
      "outputs": [
        {
          "output_type": "stream",
          "name": "stdout",
          "text": [
            "Reading package lists... Done\n",
            "Building dependency tree... Done\n",
            "Reading state information... Done\n",
            "The following additional packages will be installed:\n",
            "  libjemalloc2 liblua5.1-0 liblzf1 lua-bitop lua-cjson redis-tools\n",
            "Suggested packages:\n",
            "  ruby-redis\n",
            "The following NEW packages will be installed:\n",
            "  libjemalloc2 liblua5.1-0 liblzf1 lua-bitop lua-cjson redis-server redis-tools\n",
            "0 upgraded, 7 newly installed, 0 to remove and 49 not upgraded.\n",
            "Need to get 1,273 kB of archives.\n",
            "After this operation, 5,725 kB of additional disk space will be used.\n",
            "Get:1 http://archive.ubuntu.com/ubuntu jammy/universe amd64 libjemalloc2 amd64 5.2.1-4ubuntu1 [240 kB]\n",
            "Get:2 http://archive.ubuntu.com/ubuntu jammy/universe amd64 liblua5.1-0 amd64 5.1.5-8.1build4 [99.9 kB]\n",
            "Get:3 http://archive.ubuntu.com/ubuntu jammy/universe amd64 liblzf1 amd64 3.6-3 [7,444 B]\n",
            "Get:4 http://archive.ubuntu.com/ubuntu jammy/universe amd64 lua-bitop amd64 1.0.2-5 [6,680 B]\n",
            "Get:5 http://archive.ubuntu.com/ubuntu jammy/universe amd64 lua-cjson amd64 2.1.0+dfsg-2.1 [17.4 kB]\n",
            "Get:6 http://archive.ubuntu.com/ubuntu jammy/universe amd64 redis-tools amd64 5:6.0.16-1ubuntu1 [856 kB]\n",
            "Get:7 http://archive.ubuntu.com/ubuntu jammy/universe amd64 redis-server amd64 5:6.0.16-1ubuntu1 [45.9 kB]\n",
            "Fetched 1,273 kB in 2s (549 kB/s)\n",
            "Selecting previously unselected package libjemalloc2:amd64.\n",
            "(Reading database ... 123623 files and directories currently installed.)\n",
            "Preparing to unpack .../0-libjemalloc2_5.2.1-4ubuntu1_amd64.deb ...\n",
            "Unpacking libjemalloc2:amd64 (5.2.1-4ubuntu1) ...\n",
            "Selecting previously unselected package liblua5.1-0:amd64.\n",
            "Preparing to unpack .../1-liblua5.1-0_5.1.5-8.1build4_amd64.deb ...\n",
            "Unpacking liblua5.1-0:amd64 (5.1.5-8.1build4) ...\n",
            "Selecting previously unselected package liblzf1:amd64.\n",
            "Preparing to unpack .../2-liblzf1_3.6-3_amd64.deb ...\n",
            "Unpacking liblzf1:amd64 (3.6-3) ...\n",
            "Selecting previously unselected package lua-bitop:amd64.\n",
            "Preparing to unpack .../3-lua-bitop_1.0.2-5_amd64.deb ...\n",
            "Unpacking lua-bitop:amd64 (1.0.2-5) ...\n",
            "Selecting previously unselected package lua-cjson:amd64.\n",
            "Preparing to unpack .../4-lua-cjson_2.1.0+dfsg-2.1_amd64.deb ...\n",
            "Unpacking lua-cjson:amd64 (2.1.0+dfsg-2.1) ...\n",
            "Selecting previously unselected package redis-tools.\n",
            "Preparing to unpack .../5-redis-tools_5%3a6.0.16-1ubuntu1_amd64.deb ...\n",
            "Unpacking redis-tools (5:6.0.16-1ubuntu1) ...\n",
            "Selecting previously unselected package redis-server.\n",
            "Preparing to unpack .../6-redis-server_5%3a6.0.16-1ubuntu1_amd64.deb ...\n",
            "Unpacking redis-server (5:6.0.16-1ubuntu1) ...\n",
            "Setting up libjemalloc2:amd64 (5.2.1-4ubuntu1) ...\n",
            "Setting up lua-cjson:amd64 (2.1.0+dfsg-2.1) ...\n",
            "Setting up liblzf1:amd64 (3.6-3) ...\n",
            "Setting up lua-bitop:amd64 (1.0.2-5) ...\n",
            "Setting up liblua5.1-0:amd64 (5.1.5-8.1build4) ...\n",
            "Setting up redis-tools (5:6.0.16-1ubuntu1) ...\n",
            "Setting up redis-server (5:6.0.16-1ubuntu1) ...\n",
            "invoke-rc.d: could not determine current runlevel\n",
            "invoke-rc.d: policy-rc.d denied execution of start.\n",
            "Created symlink /etc/systemd/system/redis.service → /lib/systemd/system/redis-server.service.\n",
            "Created symlink /etc/systemd/system/multi-user.target.wants/redis-server.service → /lib/systemd/system/redis-server.service.\n",
            "Processing triggers for man-db (2.10.2-1) ...\n",
            "Processing triggers for libc-bin (2.35-0ubuntu3.4) ...\n",
            "/sbin/ldconfig.real: /usr/local/lib/libtbbbind_2_0.so.3 is not a symbolic link\n",
            "\n",
            "/sbin/ldconfig.real: /usr/local/lib/libtcm_debug.so.1 is not a symbolic link\n",
            "\n",
            "/sbin/ldconfig.real: /usr/local/lib/libtbbbind.so.3 is not a symbolic link\n",
            "\n",
            "/sbin/ldconfig.real: /usr/local/lib/libtbb.so.12 is not a symbolic link\n",
            "\n",
            "/sbin/ldconfig.real: /usr/local/lib/libtbbbind_2_5.so.3 is not a symbolic link\n",
            "\n",
            "/sbin/ldconfig.real: /usr/local/lib/libtcm.so.1 is not a symbolic link\n",
            "\n",
            "/sbin/ldconfig.real: /usr/local/lib/libur_loader.so.0 is not a symbolic link\n",
            "\n",
            "/sbin/ldconfig.real: /usr/local/lib/libhwloc.so.15 is not a symbolic link\n",
            "\n",
            "/sbin/ldconfig.real: /usr/local/lib/libur_adapter_opencl.so.0 is not a symbolic link\n",
            "\n",
            "/sbin/ldconfig.real: /usr/local/lib/libtbbmalloc.so.2 is not a symbolic link\n",
            "\n",
            "/sbin/ldconfig.real: /usr/local/lib/libur_adapter_level_zero.so.0 is not a symbolic link\n",
            "\n",
            "/sbin/ldconfig.real: /usr/local/lib/libumf.so.0 is not a symbolic link\n",
            "\n",
            "/sbin/ldconfig.real: /usr/local/lib/libtbbmalloc_proxy.so.2 is not a symbolic link\n",
            "\n",
            "Collecting redis\n",
            "  Downloading redis-5.2.0-py3-none-any.whl.metadata (9.1 kB)\n",
            "Requirement already satisfied: async-timeout>=4.0.3 in /usr/local/lib/python3.10/dist-packages (from redis) (4.0.3)\n",
            "Downloading redis-5.2.0-py3-none-any.whl (261 kB)\n",
            "\u001b[2K   \u001b[90m━━━━━━━━━━━━━━━━━━━━━━━━━━━━━━━━━━━━━━━━\u001b[0m \u001b[32m261.4/261.4 kB\u001b[0m \u001b[31m4.1 MB/s\u001b[0m eta \u001b[36m0:00:00\u001b[0m\n",
            "\u001b[?25hInstalling collected packages: redis\n",
            "Successfully installed redis-5.2.0\n"
          ]
        }
      ],
      "source": [
        "\n",
        "# Install Redis server and py-redis\n",
        "!apt-get install redis-server\n",
        "!pip install redis\n"
      ]
    },
    {
      "cell_type": "markdown",
      "id": "e1cfbf9d",
      "metadata": {
        "id": "e1cfbf9d"
      },
      "source": [
        "\n",
        "## Starting Redis Server\n",
        "\n",
        "Next, we will start the Redis server in the background.\n"
      ]
    },
    {
      "cell_type": "code",
      "execution_count": 2,
      "id": "d4179b88",
      "metadata": {
        "colab": {
          "base_uri": "https://localhost:8080/"
        },
        "id": "d4179b88",
        "outputId": "fc06eb08-4a21-4a50-aa07-1924249a0bcb"
      },
      "outputs": [
        {
          "output_type": "execute_result",
          "data": {
            "text/plain": [
              "0"
            ]
          },
          "metadata": {},
          "execution_count": 2
        }
      ],
      "source": [
        "\n",
        "# Start Redis server in the background\n",
        "import os\n",
        "os.system('redis-server --daemonize yes')\n",
        "\n",
        "# Check if Redis server is running\n",
        "os.system('redis-cli ping')\n"
      ]
    },
    {
      "cell_type": "markdown",
      "id": "8b9dc786",
      "metadata": {
        "id": "8b9dc786"
      },
      "source": [
        "\n",
        "## Connecting to Redis\n",
        "\n",
        "Now that the Redis server is running, let's connect to it using `py-redis`.\n"
      ]
    },
    {
      "cell_type": "code",
      "execution_count": 3,
      "id": "a42491df",
      "metadata": {
        "colab": {
          "base_uri": "https://localhost:8080/"
        },
        "id": "a42491df",
        "outputId": "110692ed-9028-4484-d37a-2cf192b1d3c8"
      },
      "outputs": [
        {
          "output_type": "stream",
          "name": "stdout",
          "text": [
            "Connected to Redis!\n"
          ]
        }
      ],
      "source": [
        "import redis\n",
        "\n",
        "# Connecting to the Redis server running on Colab\n",
        "r = redis.StrictRedis(host='localhost', port=6379, db=0)\n",
        "\n",
        "# Test the connection\n",
        "try:\n",
        "    r.ping()\n",
        "    print(\"Connected to Redis!\")\n",
        "except redis.ConnectionError:\n",
        "    print(\"Failed to connect to Redis.\")\n"
      ]
    },
    {
      "cell_type": "markdown",
      "source": [
        "In the code above, the db=0 parameter specifies which logical database to use. Redis supports multiple databases, and these are numbered from 0 to 15 by default. When you connect to Redis, you are connected to database 0 by default unless you specify otherwise.\n",
        "\n",
        "- db=0 means that you’re using the first database.\n",
        "- You can change the database by setting the db parameter to another number, for example db=1 to use the second database, and so on up to db=15.\n",
        "\n",
        "Each logical database in Redis is completely independent from the others, so keys stored in db=0 won’t be available in db=1, for example. It’s like having multiple separate Redis databases within a single instance."
      ],
      "metadata": {
        "id": "Vczxx10vI5gK"
      },
      "id": "Vczxx10vI5gK"
    },
    {
      "cell_type": "markdown",
      "id": "22d9fb15",
      "metadata": {
        "id": "22d9fb15"
      },
      "source": [
        "\n",
        "## Inserting a Single Key-Value Pair\n",
        "\n",
        "Let's start by inserting a single key-value pair into the Redis database.\n"
      ]
    },
    {
      "cell_type": "code",
      "execution_count": 4,
      "id": "051a7c2f",
      "metadata": {
        "colab": {
          "base_uri": "https://localhost:8080/"
        },
        "id": "051a7c2f",
        "outputId": "7486732a-702a-4b5a-c916-501142c00f79"
      },
      "outputs": [
        {
          "output_type": "stream",
          "name": "stdout",
          "text": [
            "Stored name: John Doe\n"
          ]
        }
      ],
      "source": [
        "\n",
        "# Inserting a single key-value pair\n",
        "r.set('name', 'John Doe')\n",
        "\n",
        "# Retrieving the value\n",
        "name = r.get('name')\n",
        "print(f\"Stored name: {name.decode('utf-8')}\")\n"
      ]
    },
    {
      "cell_type": "markdown",
      "id": "bf486cc9",
      "metadata": {
        "id": "bf486cc9"
      },
      "source": [
        "\n",
        "## Batch Insert\n",
        "\n",
        "Redis supports batch operations to insert multiple key-value pairs efficiently. We'll use the `mset` method for this.\n"
      ]
    },
    {
      "cell_type": "code",
      "execution_count": null,
      "id": "817f2279",
      "metadata": {
        "colab": {
          "base_uri": "https://localhost:8080/"
        },
        "id": "817f2279",
        "outputId": "c4ec51f0-4613-476c-bb3d-f8b6ab769092"
      },
      "outputs": [
        {
          "output_type": "stream",
          "name": "stdout",
          "text": [
            "age: 30\n",
            "city: New York\n",
            "occupation: Engineer\n"
          ]
        }
      ],
      "source": [
        "\n",
        "# Batch insert key-value pairs\n",
        "batch_data = {\n",
        "    'age': 30,\n",
        "    'city': 'New York',\n",
        "    'occupation': 'Engineer'\n",
        "}\n",
        "\n",
        "r.mset(batch_data)\n",
        "\n",
        "# Retrieving the values to verify\n",
        "for key in batch_data.keys():\n",
        "    print(f\"{key}: {r.get(key).decode('utf-8')}\")\n"
      ]
    },
    {
      "cell_type": "markdown",
      "source": [
        "# Batch insert: Using hset vs mset\n",
        "\n",
        "Redis provides two useful commands for storing multiple fields:\n",
        "\n",
        "\t•\tmset: Used to set multiple independent key-value pairs.\n",
        "\t•\thset: Used to set multiple fields within a single key (specifically for hashes)."
      ],
      "metadata": {
        "id": "qE8lr1UR2Jfq"
      },
      "id": "qE8lr1UR2Jfq"
    },
    {
      "cell_type": "markdown",
      "source": [
        "1. Using mset: Storing Multiple Independent Key-Value Pairs\n",
        "\n",
        "With mset, you can store unrelated key-value pairs in Redis. Each key is independent and holds its own value but first, let's create a new database:"
      ],
      "metadata": {
        "id": "N-OwD-iG2RGM"
      },
      "id": "N-OwD-iG2RGM"
    },
    {
      "cell_type": "code",
      "source": [
        "rb = redis.StrictRedis(host='localhost', port=6379, db=2)"
      ],
      "metadata": {
        "id": "b4GRCJWf4Jka"
      },
      "id": "b4GRCJWf4Jka",
      "execution_count": 22,
      "outputs": []
    },
    {
      "cell_type": "code",
      "source": [
        "# Storing multiple independent key-value pairs\n",
        "rb.mset({\n",
        "    'user:1': 'John Doe',\n",
        "    'user:2': 'Jane Smith',\n",
        "    'user:3': 'Alice Johnson'\n",
        "})\n",
        "\n",
        "# Retrieving values\n",
        "print(rb.get('user:1').decode('utf-8'))  # Output: John Doe\n",
        "print(rb.get('user:2').decode('utf-8'))  # Output: Jane Smith\n",
        "print(rb.get('user:3').decode('utf-8'))  # Output: Alice Johnson"
      ],
      "metadata": {
        "colab": {
          "base_uri": "https://localhost:8080/"
        },
        "id": "m890dT2E2TEp",
        "outputId": "bea68d81-8bed-44f0-e37a-b1bc2746b7f6"
      },
      "id": "m890dT2E2TEp",
      "execution_count": 23,
      "outputs": [
        {
          "output_type": "stream",
          "name": "stdout",
          "text": [
            "John Doe\n",
            "Jane Smith\n",
            "Alice Johnson\n"
          ]
        }
      ]
    },
    {
      "cell_type": "markdown",
      "source": [
        "Key Characteristics of mset:\n",
        "\n",
        "\t•\tEach key is independent.\n",
        "\t•\tIt is used when the data stored under each key doesn’t need to be grouped."
      ],
      "metadata": {
        "id": "hNoqz9Jg2fk8"
      },
      "id": "hNoqz9Jg2fk8"
    },
    {
      "cell_type": "markdown",
      "source": [
        "2. Using hset: Storing Multiple Fields Within a Single Key\n",
        "\n",
        "hmset is used for Redis hashes, where you want to store multiple fields (like a dictionary) under a single key."
      ],
      "metadata": {
        "id": "3VidPRpr2n0q"
      },
      "id": "3VidPRpr2n0q"
    },
    {
      "cell_type": "code",
      "source": [
        "# Storing data for a person using hset\n",
        "rb.hset('person:1', 'name', 'John Doe')\n",
        "rb.hset('person:1', 'age', '30')\n",
        "rb.hset('person:1', 'city', 'New York')\n",
        "rb.hset('person:1', 'occupation', 'Engineer')\n",
        "\n",
        "# Retrieving all fields of the hash\n",
        "person_data = rb.hgetall('person:1')\n",
        "print({k.decode('utf-8'): v.decode('utf-8') for k, v in person_data.items()})"
      ],
      "metadata": {
        "colab": {
          "base_uri": "https://localhost:8080/"
        },
        "id": "s2Xrivf52S-k",
        "outputId": "23bca3a6-1bc1-4780-bb3b-85f3cb12b412"
      },
      "id": "s2Xrivf52S-k",
      "execution_count": 24,
      "outputs": [
        {
          "output_type": "stream",
          "name": "stdout",
          "text": [
            "{'name': 'John Doe', 'age': '30', 'city': 'New York', 'occupation': 'Engineer'}\n"
          ]
        }
      ]
    },
    {
      "cell_type": "markdown",
      "source": [
        "Alternatively, you can use a loop to insert multiple fields efficiently:"
      ],
      "metadata": {
        "id": "5XPg5pNQ3MAT"
      },
      "id": "5XPg5pNQ3MAT"
    },
    {
      "cell_type": "code",
      "source": [
        "# Using a loop to set multiple fields\n",
        "fields = {'name': 'John Doe', 'age': '30', 'city': 'New York', 'occupation': 'Engineer'}\n",
        "for field, value in fields.items():\n",
        "    rb.hset('person:1', field, value)"
      ],
      "metadata": {
        "id": "WOaw0KYa3NfH"
      },
      "id": "WOaw0KYa3NfH",
      "execution_count": 25,
      "outputs": []
    },
    {
      "cell_type": "markdown",
      "source": [
        "Key Characteristics of hset:\n",
        "\n",
        "\t•\tAll fields (like name, age, city) are stored under one key (person:1 in this case).\n",
        "\t•\tThis is useful for grouping related data (e.g., storing user profiles or product details)."
      ],
      "metadata": {
        "id": "0iXE6t8u3ScA"
      },
      "id": "0iXE6t8u3ScA"
    },
    {
      "cell_type": "markdown",
      "source": [
        "Now let's get all the keys"
      ],
      "metadata": {
        "id": "TCGThxT83e7n"
      },
      "id": "TCGThxT83e7n"
    },
    {
      "cell_type": "code",
      "source": [
        "# Get all keys in the Redis database\n",
        "all_keys = rb.keys('*')\n",
        "\n",
        "# Print the keys\n",
        "for key in all_keys:\n",
        "    print(key.decode('utf-8'))"
      ],
      "metadata": {
        "colab": {
          "base_uri": "https://localhost:8080/"
        },
        "id": "zWhDmJ0a3jSs",
        "outputId": "76913f2e-6647-413f-dfa9-fcc6441fb7ff"
      },
      "id": "zWhDmJ0a3jSs",
      "execution_count": 26,
      "outputs": [
        {
          "output_type": "stream",
          "name": "stdout",
          "text": [
            "user:3\n",
            "user:2\n",
            "person:1\n",
            "user:1\n"
          ]
        }
      ]
    },
    {
      "cell_type": "markdown",
      "id": "e485c798",
      "metadata": {
        "id": "e485c798"
      },
      "source": [
        "\n",
        "## Deleting a Key-Value Pair\n",
        "\n",
        "You can delete a key-value pair from the Redis database using the `delete` method.\n"
      ]
    },
    {
      "cell_type": "code",
      "execution_count": 27,
      "id": "ae3f8148",
      "metadata": {
        "colab": {
          "base_uri": "https://localhost:8080/"
        },
        "id": "ae3f8148",
        "outputId": "fe446436-7d3e-443b-9613-47e388f6b53f"
      },
      "outputs": [
        {
          "output_type": "stream",
          "name": "stdout",
          "text": [
            "Occupation after deletion: None\n"
          ]
        }
      ],
      "source": [
        "\n",
        "# Deleting a key-value pair\n",
        "r.delete('occupation')\n",
        "\n",
        "# Trying to retrieve the deleted key\n",
        "occupation = r.get('occupation')\n",
        "print(f\"Occupation after deletion: {occupation}\")\n"
      ]
    },
    {
      "cell_type": "markdown",
      "id": "fd33ad99",
      "metadata": {
        "id": "fd33ad99"
      },
      "source": [
        "\n",
        "## Additional Redis Features\n",
        "\n",
        "Redis supports many additional features, such as setting a TTL (time-to-live) for a key or incrementing numeric values.\n",
        "\n",
        "### Setting TTL\n",
        "You can set a TTL for a key, after which the key will automatically expire.\n"
      ]
    },
    {
      "cell_type": "code",
      "execution_count": null,
      "id": "51e64d65",
      "metadata": {
        "colab": {
          "base_uri": "https://localhost:8080/"
        },
        "id": "51e64d65",
        "outputId": "4139f2d5-6d9e-4559-bb84-eb32ba55c445"
      },
      "outputs": [
        {
          "output_type": "stream",
          "name": "stdout",
          "text": [
            "temp_key: This is temporary\n",
            "temp_key after 10 seconds: None\n"
          ]
        }
      ],
      "source": [
        "\n",
        "# Setting a key with a TTL of 10 seconds\n",
        "r.set('temp_key', 'This is temporary', ex=10)\n",
        "print(f\"temp_key: {r.get('temp_key').decode('utf-8')}\")\n",
        "\n",
        "# After 10 seconds, the key will expire\n",
        "import time\n",
        "time.sleep(10)\n",
        "\n",
        "temp_key = r.get('temp_key')\n",
        "print(f\"temp_key after 10 seconds: {temp_key}\")\n"
      ]
    },
    {
      "cell_type": "markdown",
      "id": "266213e7",
      "metadata": {
        "id": "266213e7"
      },
      "source": [
        "\n",
        "### Incrementing Numeric Values\n",
        "\n",
        "Redis allows you to increment numeric values atomically, which is useful in many scenarios such as counters.\n"
      ]
    },
    {
      "cell_type": "code",
      "execution_count": null,
      "id": "e684b99b",
      "metadata": {
        "colab": {
          "base_uri": "https://localhost:8080/"
        },
        "id": "e684b99b",
        "outputId": "9fd28f0b-c5ef-4e0e-90f8-0d606cb93d33"
      },
      "outputs": [
        {
          "output_type": "stream",
          "name": "stdout",
          "text": [
            "Counter: 1\n",
            "Counter after incrementing by 5: 6\n"
          ]
        }
      ],
      "source": [
        "\n",
        "# Incrementing a numeric value\n",
        "r.set('counter', 0)\n",
        "r.incr('counter')\n",
        "print(f\"Counter: {r.get('counter').decode('utf-8')}\")\n",
        "\n",
        "# Incrementing by 5\n",
        "r.incrby('counter', 5)\n",
        "print(f\"Counter after incrementing by 5: {r.get('counter').decode('utf-8')}\")\n"
      ]
    }
  ],
  "metadata": {
    "colab": {
      "provenance": []
    },
    "language_info": {
      "name": "python"
    },
    "kernelspec": {
      "name": "python3",
      "display_name": "Python 3"
    }
  },
  "nbformat": 4,
  "nbformat_minor": 5
}