{
 "cells": [
  {
   "cell_type": "markdown",
   "id": "30360100",
   "metadata": {},
   "source": [
    "# Handling Parquet Files with Python"
   ]
  },
  {
   "cell_type": "code",
   "execution_count": 1,
   "id": "0e62a336",
   "metadata": {},
   "outputs": [],
   "source": [
    "import pandas as pd\n",
    "import numpy as np"
   ]
  },
  {
   "cell_type": "code",
   "execution_count": 2,
   "id": "d0f45c7e",
   "metadata": {},
   "outputs": [],
   "source": [
    "# Generate sample data\n",
    "np.random.seed(42)\n",
    "data = {\n",
    "    'id': np.arange(1, 1001),\n",
    "    'name': np.random.choice(['Alice', 'Bob', 'Charlie', 'David', 'Eva'], 1000),\n",
    "    'surname': np.random.choice(['Smith', 'Johnson', 'Williams', 'Jones', 'Brown'], 1000),\n",
    "    'email': [f'user{i}@example.com' for i in range(1, 1001)],\n",
    "    'address': np.random.choice(['123 Main St', '456 Oak St', '789 Pine St', '101 Maple St'], 1000)\n",
    "}\n",
    "\n",
    "# Create DataFrame\n",
    "df = pd.DataFrame(data)"
   ]
  },
  {
   "cell_type": "code",
   "execution_count": 3,
   "id": "92c7da0c",
   "metadata": {},
   "outputs": [],
   "source": [
    "# Save to Excel and Parquet files\n",
    "df.to_excel('users_info.xlsx', index=False)\n",
    "df.to_parquet('users_info.parquet', index=False)"
   ]
  },
  {
   "cell_type": "code",
   "execution_count": 4,
   "id": "c7de2a3d",
   "metadata": {},
   "outputs": [
    {
     "data": {
      "text/html": [
       "<div>\n",
       "<style scoped>\n",
       "    .dataframe tbody tr th:only-of-type {\n",
       "        vertical-align: middle;\n",
       "    }\n",
       "\n",
       "    .dataframe tbody tr th {\n",
       "        vertical-align: top;\n",
       "    }\n",
       "\n",
       "    .dataframe thead th {\n",
       "        text-align: right;\n",
       "    }\n",
       "</style>\n",
       "<table border=\"1\" class=\"dataframe\">\n",
       "  <thead>\n",
       "    <tr style=\"text-align: right;\">\n",
       "      <th></th>\n",
       "      <th>id</th>\n",
       "      <th>name</th>\n",
       "      <th>surname</th>\n",
       "      <th>email</th>\n",
       "      <th>address</th>\n",
       "    </tr>\n",
       "  </thead>\n",
       "  <tbody>\n",
       "    <tr>\n",
       "      <th>0</th>\n",
       "      <td>1</td>\n",
       "      <td>David</td>\n",
       "      <td>Jones</td>\n",
       "      <td>user1@example.com</td>\n",
       "      <td>101 Maple St</td>\n",
       "    </tr>\n",
       "    <tr>\n",
       "      <th>1</th>\n",
       "      <td>2</td>\n",
       "      <td>Eva</td>\n",
       "      <td>Jones</td>\n",
       "      <td>user2@example.com</td>\n",
       "      <td>789 Pine St</td>\n",
       "    </tr>\n",
       "    <tr>\n",
       "      <th>2</th>\n",
       "      <td>3</td>\n",
       "      <td>Charlie</td>\n",
       "      <td>Jones</td>\n",
       "      <td>user3@example.com</td>\n",
       "      <td>101 Maple St</td>\n",
       "    </tr>\n",
       "    <tr>\n",
       "      <th>3</th>\n",
       "      <td>4</td>\n",
       "      <td>Eva</td>\n",
       "      <td>Jones</td>\n",
       "      <td>user4@example.com</td>\n",
       "      <td>789 Pine St</td>\n",
       "    </tr>\n",
       "    <tr>\n",
       "      <th>4</th>\n",
       "      <td>5</td>\n",
       "      <td>Eva</td>\n",
       "      <td>Brown</td>\n",
       "      <td>user5@example.com</td>\n",
       "      <td>456 Oak St</td>\n",
       "    </tr>\n",
       "  </tbody>\n",
       "</table>\n",
       "</div>"
      ],
      "text/plain": [
       "   id     name surname              email       address\n",
       "0   1    David   Jones  user1@example.com  101 Maple St\n",
       "1   2      Eva   Jones  user2@example.com   789 Pine St\n",
       "2   3  Charlie   Jones  user3@example.com  101 Maple St\n",
       "3   4      Eva   Jones  user4@example.com   789 Pine St\n",
       "4   5      Eva   Brown  user5@example.com    456 Oak St"
      ]
     },
     "execution_count": 4,
     "metadata": {},
     "output_type": "execute_result"
    }
   ],
   "source": [
    "df.head()"
   ]
  },
  {
   "cell_type": "code",
   "execution_count": 5,
   "id": "97dbfe69",
   "metadata": {},
   "outputs": [
    {
     "name": "stdout",
     "output_type": "stream",
     "text": [
      "Time to load Excel file: 0.0931 seconds\n",
      "Time to load Parquet file: 0.0111 seconds\n",
      "Excel file size: 0.26 MB\n",
      "Parquet file size: 0.26 MB\n"
     ]
    }
   ],
   "source": [
    "import time\n",
    "\n",
    "# Read and time Excel\n",
    "start_time = time.time()\n",
    "df_excel = pd.read_excel('users_info.xlsx')\n",
    "excel_time = time.time() - start_time\n",
    "print(f\"Time to load Excel file: {excel_time:.4f} seconds\")\n",
    "\n",
    "# Read and time Parquet\n",
    "start_time = time.time()\n",
    "df_parquet = pd.read_parquet('users_info.parquet')\n",
    "parquet_time = time.time() - start_time\n",
    "print(f\"Time to load Parquet file: {parquet_time:.4f} seconds\")\n",
    "\n",
    "# Compare DataFrame sizes\n",
    "print(f\"Excel file size: {df_excel.memory_usage(deep=True).sum() / (1024 * 1024):.2f} MB\")\n",
    "print(f\"Parquet file size: {df_parquet.memory_usage(deep=True).sum() / (1024 * 1024):.2f} MB\")\n"
   ]
  },
  {
   "cell_type": "code",
   "execution_count": null,
   "id": "bef42af2",
   "metadata": {},
   "outputs": [],
   "source": []
  },
  {
   "cell_type": "markdown",
   "id": "4420e787",
   "metadata": {},
   "source": [
    "# Advantages of Columnar Formats Like Parquet"
   ]
  },
  {
   "cell_type": "markdown",
   "id": "9fc50558",
   "metadata": {},
   "source": [
    "Columnar formats such as Parquet store data by columns instead of rows. This provides several advantages for analytical tasks:\n",
    "\n",
    "- **Faster Queries**: When only specific columns are needed, columnar formats read only those columns, reducing I/O.\n",
    "- **Efficient Compression**: Similar data types in a column compress better.\n",
    "- **Improved Performance in Distributed Systems**: Optimized for big data frameworks like Spark.\n"
   ]
  },
  {
   "cell_type": "code",
   "execution_count": 6,
   "id": "ce804244",
   "metadata": {},
   "outputs": [
    {
     "data": {
      "text/plain": [
       "(0.03488528750021942, 0.0009513665980193764)"
      ]
     },
     "execution_count": 6,
     "metadata": {},
     "output_type": "execute_result"
    }
   ],
   "source": [
    "import timeit\n",
    "import pandas as pd\n",
    "\n",
    "# Test query time for Excel\n",
    "def query_excel():\n",
    "    df = pd.read_excel('users_info.xlsx')\n",
    "    return df[df['name'] == 'Alice']\n",
    "\n",
    "excel_query_time = timeit.timeit(query_excel, number=10) / 10\n",
    "\n",
    "# Test query time for Parquet\n",
    "def query_parquet():\n",
    "    df = pd.read_parquet('users_info.parquet')\n",
    "    return df[df['name'] == 'Alice']\n",
    "\n",
    "parquet_query_time = timeit.timeit(query_parquet, number=10) / 10\n",
    "\n",
    "excel_query_time, parquet_query_time"
   ]
  },
  {
   "cell_type": "code",
   "execution_count": 8,
   "id": "3a842f3f",
   "metadata": {},
   "outputs": [
    {
     "data": {
      "image/png": "[encoded data removed]",
      "text/plain": [
       "<Figure size 640x480 with 1 Axes>"
      ]
     },
     "metadata": {},
     "output_type": "display_data"
    }
   ],
   "source": [
    "import matplotlib.pyplot as plt\n",
    "\n",
    "# Visualize time comparison\n",
    "methods = ['Excel', 'Parquet']\n",
    "times = [excel_query_time, parquet_query_time]\n",
    "\n",
    "plt.bar(methods, times)\n",
    "plt.ylabel('Time (s)')\n",
    "plt.title('Query Time Comparison')\n",
    "plt.show()"
   ]
  }
 ],
 "metadata": {
  "kernelspec": {
   "display_name": "Python 3 (ipykernel)",
   "language": "python",
   "name": "python3"
  },
  "language_info": {
   "codemirror_mode": {
    "name": "ipython",
    "version": 3
   },
   "file_extension": ".py",
   "mimetype": "text/x-python",
   "name": "python",
   "nbconvert_exporter": "python",
   "pygments_lexer": "ipython3",
   "version": "3.11.5"
  }
 },
 "nbformat": 4,
 "nbformat_minor": 5
}
