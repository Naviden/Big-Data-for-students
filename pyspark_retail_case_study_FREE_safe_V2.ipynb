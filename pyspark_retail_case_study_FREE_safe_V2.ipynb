{
 "cells": [
  {
   "cell_type": "markdown",
   "metadata": {
    "application/vnd.databricks.v1+cell": {
     "cellMetadata": {},
     "inputWidgets": {},
     "nuid": "2ea6c1ac-b0c7-4c96-8b41-b213945f0768",
     "showTitle": false,
     "tableResultSettingsMap": {},
     "title": ""
    }
   },
   "source": [
    "\n",
    "# Retail Analytics 101 with PySpark (Databricks Free)\n",
    "\n",
    "This notebook teaches PySpark basics on Databricks using a small **retail** case study.\n",
    "You will:\n",
    "- Load CSVs from DBFS\n",
    "- Inspect and clean data (nulls, duplicates, outliers)\n",
    "- Parse JSON, join dimensions, derive metrics\n",
    "- Aggregate with groupBy and window functions\n",
    "- Save curated tables as Delta\n",
    "\n",
    "> **Before you start:** upload the CSVs from `retail_case_study_csv.zip` into **Workspace ➜ Files** or `/FileStore/retail_case_study` on Databricks.\n"
   ]
  },
  {
   "cell_type": "code",
   "execution_count": 0,
   "metadata": {
    "application/vnd.databricks.v1+cell": {
     "cellMetadata": {
      "byteLimit": 2048000,
      "rowLimit": 10000
     },
     "inputWidgets": {},
     "nuid": "27ca21e5-7252-4f11-9022-82a997c5f714",
     "showTitle": false,
     "tableResultSettingsMap": {},
     "title": ""
    }
   },
   "outputs": [],
   "source": [
    "# ✅ Databricks FREE-safe CSV loader (no DBFS, no local file IO by Spark)\n",
    "# - Uses pandas to fetch CSV from a RAW GitHub URL into memory\n",
    "# - Converts to Spark DataFrame (Spark never touches the filesystem)\n",
    "import pandas as pd\n",
    "from pyspark.sql import functions as F\n",
    "\n",
    "def load_csv_from_github(raw_url: str):\n",
    "    pdf = pd.read_csv(raw_url)\n",
    "    return spark.createDataFrame(pdf)\n",
    "\n",
    "# Example raw URLs for your repo (edit as needed):\n",
    "customers_raw = \"https://raw.githubusercontent.com/Naviden/Big-Data-for-students/main/Data/customers.csv\"\n",
    "transactions_raw = \"https://raw.githubusercontent.com/Naviden/Big-Data-for-students/main/Data/transactions.csv\"\n",
    "products_raw = \"https://raw.githubusercontent.com/Naviden/Big-Data-for-students/main/Data/products.csv\"\n",
    "\n",
    "# Example usage:\n",
    "customers = load_csv_from_github(customers_raw)\n",
    "transactions = load_csv_from_github(transactions_raw)\n",
    "products = load_csv_from_github(products_raw)"
   ]
  },
  {
   "cell_type": "code",
   "execution_count": 0,
   "metadata": {
    "application/vnd.databricks.v1+cell": {
     "cellMetadata": {},
     "inputWidgets": {},
     "nuid": "2966efe8-69ea-49c6-9692-95248f5a8bc8",
     "showTitle": false,
     "tableResultSettingsMap": {},
     "title": ""
    }
   },
   "outputs": [],
   "source": [
    "\n",
    "# If running on Databricks, Spark is already available as 'spark'\n",
    "from pyspark.sql import functions as F, types as T\n",
    "from pyspark.sql.window import Window\n",
    "\n",
    "# Adjust this base path if you uploaded elsewhere\n",
    "BASE = \"/dbfs/FileStore/retail_case_study\"\n",
    "\n",
    "displayHTML(f\"<b>Reading from:</b> {BASE}\")\n"
   ]
  },
  {
   "cell_type": "markdown",
   "metadata": {
    "application/vnd.databricks.v1+cell": {
     "cellMetadata": {},
     "inputWidgets": {},
     "nuid": "bd4304d5-90cb-47df-9d41-0ee77d468376",
     "showTitle": false,
     "tableResultSettingsMap": {},
     "title": ""
    }
   },
   "source": [
    "\n",
    "## (Optional) Unzip helper\n",
    "If you uploaded `retail_case_study_csv.zip` into `/FileStore`, run this to extract CSVs into `/FileStore/retail_case_study`.\n"
   ]
  },
  {
   "cell_type": "code",
   "execution_count": 0,
   "metadata": {
    "application/vnd.databricks.v1+cell": {
     "cellMetadata": {},
     "inputWidgets": {},
     "nuid": "cd54a560-a576-402b-9fd5-9b353f43b8bc",
     "showTitle": false,
     "tableResultSettingsMap": {},
     "title": ""
    }
   },
   "outputs": [],
   "source": [
    "\n",
    "import os, zipfile\n",
    "\n",
    "zip_path = \"/dbfs/FileStore/retail_case_study_csv.zip\"   # change if needed\n",
    "target_dir = \"/dbfs/FileStore/retail_case_study\"\n",
    "\n",
    "if os.path.exists(zip_path):\n",
    "    os.makedirs(target_dir, exist_ok=True)\n",
    "    with zipfile.ZipFile(zip_path, \"r\") as zf:\n",
    "        zf.extractall(target_dir)\n",
    "    print(\"Unzipped to\", target_dir)\n",
    "else:\n",
    "    print(\"ZIP not found at\", zip_path, \"- skip if you already uploaded CSVs to\", target_dir)\n"
   ]
  },
  {
   "cell_type": "markdown",
   "metadata": {
    "application/vnd.databricks.v1+cell": {
     "cellMetadata": {},
     "inputWidgets": {},
     "nuid": "c5ad825a-32d8-4532-b308-7eed98305701",
     "showTitle": false,
     "tableResultSettingsMap": {},
     "title": ""
    }
   },
   "source": [
    "\n",
    "## Load data\n",
    "We prefer CSV for simplicity. (Excel requires the `spark-excel` connector on the cluster.)\n"
   ]
  },
  {
   "cell_type": "code",
   "execution_count": 0,
   "metadata": {
    "application/vnd.databricks.v1+cell": {
     "cellMetadata": {
      "byteLimit": 2048000,
      "rowLimit": 10000
     },
     "inputWidgets": {},
     "nuid": "f7f7f25e-ca85-42bc-9020-13fb2c399fbc",
     "showTitle": false,
     "tableResultSettingsMap": {},
     "title": ""
    }
   },
   "outputs": [],
   "source": [
    "import pandas as pd\n",
    "from pyspark.sql import functions as F\n",
    "from pyspark.sql import types as T\n",
    "from pyspark.sql import Window\n",
    "\n",
    "def load_csv_from_github(raw_url: str):\n",
    "    pdf = pd.read_csv(raw_url)\n",
    "    return spark.createDataFrame(pdf)"
   ]
  },
  {
   "cell_type": "code",
   "execution_count": 0,
   "metadata": {
    "application/vnd.databricks.v1+cell": {
     "cellMetadata": {
      "byteLimit": 2048000,
      "rowLimit": 10000
     },
     "inputWidgets": {},
     "nuid": "f4ef8b86-5af8-4232-a0f1-8a8426394e34",
     "showTitle": false,
     "tableResultSettingsMap": {},
     "title": ""
    }
   },
   "outputs": [],
   "source": [
    "customers = load_csv_from_github(\"https://raw.githubusercontent.com/Naviden/Big-Data-for-students/main/Data/customers.csv\")\n",
    "products  = load_csv_from_github(\"https://raw.githubusercontent.com/Naviden/Big-Data-for-students/main/Data/products.csv\")\n",
    "stores    = load_csv_from_github(\"https://raw.githubusercontent.com/Naviden/Big-Data-for-students/main/Data/stores.csv\")\n",
    "tx_raw    = load_csv_from_github(\"https://raw.githubusercontent.com/Naviden/Big-Data-for-students/main/Data/transactions.csv\")\n",
    "returns   = load_csv_from_github(\"https://raw.githubusercontent.com/Naviden/Big-Data-for-students/main/Data/returns.csv\")"
   ]
  },
  {
   "cell_type": "code",
   "execution_count": 0,
   "metadata": {
    "application/vnd.databricks.v1+cell": {
     "cellMetadata": {
      "byteLimit": 2048000,
      "rowLimit": 10000
     },
     "inputWidgets": {},
     "nuid": "7c44da7e-0e77-4670-a7b1-184deb7d92a1",
     "showTitle": false,
     "tableResultSettingsMap": {},
     "title": ""
    }
   },
   "outputs": [
    {
     "output_type": "stream",
     "name": "stdout",
     "output_type": "stream",
     "text": [
      "Rows -> customers: 250 products: 60 stores: 12 transactions: 3512 returns: 94\n"
     ]
    }
   ],
   "source": [
    "\n",
    "\n",
    "print(\"Rows -> customers:\", customers.count(), \"products:\", products.count(), \"stores:\", stores.count(), \"transactions:\", tx_raw.count(), \"returns:\", returns.count())\n"
   ]
  },
  {
   "cell_type": "markdown",
   "metadata": {
    "application/vnd.databricks.v1+cell": {
     "cellMetadata": {},
     "inputWidgets": {},
     "nuid": "87479b0a-f663-4968-a6b6-4bf71c9e9fe0",
     "showTitle": false,
     "tableResultSettingsMap": {},
     "title": ""
    }
   },
   "source": [
    "\n",
    "## Inspect schema and some rows\n"
   ]
  },
  {
   "cell_type": "code",
   "execution_count": 0,
   "metadata": {
    "application/vnd.databricks.v1+cell": {
     "cellMetadata": {
      "byteLimit": 2048000,
      "rowLimit": 10000
     },
     "inputWidgets": {},
     "nuid": "1d3a95b7-f06d-4656-9ac7-e61d70698dbf",
     "showTitle": false,
     "tableResultSettingsMap": {},
     "title": ""
    }
   },
   "outputs": [
    {
     "output_type": "stream",
     "name": "stdout",
     "output_type": "stream",
     "text": [
      "root\n |-- customer_id: long (nullable = true)\n |-- first_name: string (nullable = true)\n |-- last_name: string (nullable = true)\n |-- email: string (nullable = true)\n |-- signup_date: string (nullable = true)\n |-- age: long (nullable = true)\n |-- loyalty_tier: string (nullable = true)\n |-- is_student: long (nullable = true)\n |-- home_city: string (nullable = true)\n |-- home_region: string (nullable = true)\n\nroot\n |-- product_id: long (nullable = true)\n |-- product_name: string (nullable = true)\n |-- category: string (nullable = true)\n |-- brand: string (nullable = true)\n |-- unit_price_list: double (nullable = true)\n |-- tax_rate: double (nullable = true)\n\nroot\n |-- store_id: long (nullable = true)\n |-- store_name: string (nullable = true)\n |-- city: string (nullable = true)\n |-- region: string (nullable = true)\n |-- opened_date: string (nullable = true)\n |-- store_type: string (nullable = true)\n\nroot\n |-- transaction_id: long (nullable = true)\n |-- transaction_ts: string (nullable = true)\n |-- store_id: long (nullable = true)\n |-- customer_id: long (nullable = true)\n |-- product_id: long (nullable = true)\n |-- quantity: long (nullable = true)\n |-- unit_price: double (nullable = true)\n |-- discount_pct: double (nullable = true)\n |-- payment_method: string (nullable = true)\n |-- channel: string (nullable = true)\n |-- review_rating: double (nullable = true)\n |-- promo_meta_json: string (nullable = true)\n |-- is_returned: long (nullable = true)\n |-- pre_tax_amount: double (nullable = true)\n |-- tax_rate: double (nullable = true)\n |-- tax_amount: double (nullable = true)\n |-- total_amount: double (nullable = true)\n\n"
     ]
    },
    {
     "output_type": "display_data",
     "data": {
      "text/html": [
       "<style scoped>\n",
       "  .table-result-container {\n",
       "    max-height: 300px;\n",
       "    overflow: auto;\n",
       "  }\n",
       "  table, th, td {\n",
       "    border: 1px solid black;\n",
       "    border-collapse: collapse;\n",
       "  }\n",
       "  th, td {\n",
       "    padding: 5px;\n",
       "  }\n",
       "  th {\n",
       "    text-align: left;\n",
       "  }\n",
       "</style><div class='table-result-container'><table class='table-result'><thead style='background-color: white'><tr><th>transaction_id</th><th>transaction_ts</th><th>store_id</th><th>customer_id</th><th>product_id</th><th>quantity</th><th>unit_price</th><th>discount_pct</th><th>payment_method</th><th>channel</th><th>review_rating</th><th>promo_meta_json</th><th>is_returned</th><th>pre_tax_amount</th><th>tax_rate</th><th>tax_amount</th><th>total_amount</th></tr></thead><tbody><tr><td>1</td><td>2024-11-13 10:02:00</td><td>4</td><td>147</td><td>9</td><td>1</td><td>2.75</td><td>0.0</td><td>Cash</td><td>Online</td><td>null</td><td>{\"coupon\": \"NONE\", \"bundle\": false, \"campaign\": \"BlackFriday\"}</td><td>0</td><td>2.75</td><td>0.1</td><td>0.28</td><td>3.03</td></tr><tr><td>2</td><td>2025-01-30 19:00:00</td><td>1</td><td>138</td><td>15</td><td>2</td><td>32.66</td><td>0.0</td><td>Card</td><td>InStore</td><td>3.0</td><td>{\"coupon\": \"LOYAL5\", \"bundle\": false, \"campaign\": \"BlackFriday\"}</td><td>0</td><td>65.32</td><td>0.07</td><td>4.57</td><td>69.89</td></tr><tr><td>3</td><td>2024-10-18 18:46:00</td><td>6</td><td>208</td><td>54</td><td>2</td><td>23.82</td><td>0.1</td><td>GiftCard</td><td>ClickAndCollect</td><td>4.0</td><td>{\"coupon\": \"WEEKEND15\", \"bundle\": true, \"campaign\": \"SpringSale\"}</td><td>0</td><td>42.88</td><td>0.07</td><td>3.0</td><td>45.88</td></tr><tr><td>4</td><td>2024-01-16 18:29:00</td><td>1</td><td>244</td><td>57</td><td>3</td><td>29.88</td><td>0.2</td><td>Card</td><td>InStore</td><td>4.0</td><td>{\"coupon\": \"LOYAL5\", \"bundle\": false, \"campaign\": \"SpringSale\"}</td><td>0</td><td>71.71</td><td>0.0</td><td>0.0</td><td>71.71</td></tr><tr><td>5</td><td>2024-12-24 12:13:00</td><td>8</td><td>145</td><td>29</td><td>2</td><td>41.9</td><td>0.0</td><td>MobilePay</td><td>InStore</td><td>4.0</td><td>{\"coupon\": \"NONE\", \"bundle\": false, \"campaign\": \"SpringSale\"}</td><td>0</td><td>83.8</td><td>0.1</td><td>8.38</td><td>92.18</td></tr></tbody></table></div>"
      ]
     },
     "metadata": {
      "application/vnd.databricks.v1+output": {
       "addedWidgets": {},
       "aggData": [],
       "aggError": "",
       "aggOverflow": false,
       "aggSchema": [],
       "aggSeriesLimitReached": false,
       "aggType": "",
       "arguments": {},
       "columnCustomDisplayInfos": {},
       "data": [
        [
         1,
         "2024-11-13 10:02:00",
         4,
         147,
         9,
         1,
         2.75,
         0.0,
         "Cash",
         "Online",
         null,
         "{\"coupon\": \"NONE\", \"bundle\": false, \"campaign\": \"BlackFriday\"}",
         0,
         2.75,
         0.1,
         0.28,
         3.03
        ],
        [
         2,
         "2025-01-30 19:00:00",
         1,
         138,
         15,
         2,
         32.66,
         0.0,
         "Card",
         "InStore",
         3.0,
         "{\"coupon\": \"LOYAL5\", \"bundle\": false, \"campaign\": \"BlackFriday\"}",
         0,
         65.32,
         0.07,
         4.57,
         69.89
        ],
        [
         3,
         "2024-10-18 18:46:00",
         6,
         208,
         54,
         2,
         23.82,
         0.1,
         "GiftCard",
         "ClickAndCollect",
         4.0,
         "{\"coupon\": \"WEEKEND15\", \"bundle\": true, \"campaign\": \"SpringSale\"}",
         0,
         42.88,
         0.07,
         3.0,
         45.88
        ],
        [
         4,
         "2024-01-16 18:29:00",
         1,
         244,
         57,
         3,
         29.88,
         0.2,
         "Card",
         "InStore",
         4.0,
         "{\"coupon\": \"LOYAL5\", \"bundle\": false, \"campaign\": \"SpringSale\"}",
         0,
         71.71,
         0.0,
         0.0,
         71.71
        ],
        [
         5,
         "2024-12-24 12:13:00",
         8,
         145,
         29,
         2,
         41.9,
         0.0,
         "MobilePay",
         "InStore",
         4.0,
         "{\"coupon\": \"NONE\", \"bundle\": false, \"campaign\": \"SpringSale\"}",
         0,
         83.8,
         0.1,
         8.38,
         92.18
        ]
       ],
       "datasetInfos": [],
       "dbfsResultPath": null,
       "isJsonSchema": true,
       "metadata": {},
       "overflow": false,
       "plotOptions": {
        "customPlotOptions": {},
        "displayType": "table",
        "pivotAggregation": null,
        "pivotColumns": null,
        "xColumns": null,
        "yColumns": null
       },
       "removedWidgets": [],
       "schema": [
        {
         "metadata": "{}",
         "name": "transaction_id",
         "type": "\"long\""
        },
        {
         "metadata": "{}",
         "name": "transaction_ts",
         "type": "\"string\""
        },
        {
         "metadata": "{}",
         "name": "store_id",
         "type": "\"long\""
        },
        {
         "metadata": "{}",
         "name": "customer_id",
         "type": "\"long\""
        },
        {
         "metadata": "{}",
         "name": "product_id",
         "type": "\"long\""
        },
        {
         "metadata": "{}",
         "name": "quantity",
         "type": "\"long\""
        },
        {
         "metadata": "{}",
         "name": "unit_price",
         "type": "\"double\""
        },
        {
         "metadata": "{}",
         "name": "discount_pct",
         "type": "\"double\""
        },
        {
         "metadata": "{}",
         "name": "payment_method",
         "type": "\"string\""
        },
        {
         "metadata": "{}",
         "name": "channel",
         "type": "\"string\""
        },
        {
         "metadata": "{}",
         "name": "review_rating",
         "type": "\"double\""
        },
        {
         "metadata": "{}",
         "name": "promo_meta_json",
         "type": "\"string\""
        },
        {
         "metadata": "{}",
         "name": "is_returned",
         "type": "\"long\""
        },
        {
         "metadata": "{}",
         "name": "pre_tax_amount",
         "type": "\"double\""
        },
        {
         "metadata": "{}",
         "name": "tax_rate",
         "type": "\"double\""
        },
        {
         "metadata": "{}",
         "name": "tax_amount",
         "type": "\"double\""
        },
        {
         "metadata": "{}",
         "name": "total_amount",
         "type": "\"double\""
        }
       ],
       "type": "table"
      }
     },
     "output_type": "display_data"
    }
   ],
   "source": [
    "\n",
    "customers.printSchema()\n",
    "products.printSchema()\n",
    "stores.printSchema()\n",
    "tx_raw.printSchema()\n",
    "\n",
    "display(tx_raw.limit(5))\n"
   ]
  },
  {
   "cell_type": "markdown",
   "metadata": {
    "application/vnd.databricks.v1+cell": {
     "cellMetadata": {},
     "inputWidgets": {},
     "nuid": "dda1442a-7624-4f04-82d6-2dddfc1f096d",
     "showTitle": false,
     "tableResultSettingsMap": {},
     "title": ""
    }
   },
   "source": [
    "\n",
    "## Cast types and parse JSON column\n"
   ]
  },
  {
   "cell_type": "code",
   "execution_count": 0,
   "metadata": {
    "application/vnd.databricks.v1+cell": {
     "cellMetadata": {
      "byteLimit": 2048000,
      "rowLimit": 10000
     },
     "inputWidgets": {},
     "nuid": "ece4b678-20c8-4b54-89ee-1b49fdac3d52",
     "showTitle": false,
     "tableResultSettingsMap": {},
     "title": ""
    }
   },
   "outputs": [
    {
     "output_type": "display_data",
     "data": {
      "text/html": [
       "<style scoped>\n",
       "  .table-result-container {\n",
       "    max-height: 300px;\n",
       "    overflow: auto;\n",
       "  }\n",
       "  table, th, td {\n",
       "    border: 1px solid black;\n",
       "    border-collapse: collapse;\n",
       "  }\n",
       "  th, td {\n",
       "    padding: 5px;\n",
       "  }\n",
       "  th {\n",
       "    text-align: left;\n",
       "  }\n",
       "</style><div class='table-result-container'><table class='table-result'><thead style='background-color: white'><tr><th>transaction_id</th><th>transaction_ts</th><th>store_id</th><th>customer_id</th><th>product_id</th><th>quantity</th><th>unit_price</th><th>discount_pct</th><th>payment_method</th><th>channel</th><th>review_rating</th><th>promo_meta_json</th><th>is_returned</th><th>pre_tax_amount</th><th>tax_rate</th><th>tax_amount</th><th>total_amount</th><th>promo_meta</th></tr></thead><tbody><tr><td>1</td><td>2024-11-13T10:02:00.000Z</td><td>4</td><td>147</td><td>9</td><td>1</td><td>2.75</td><td>0.0</td><td>Cash</td><td>Online</td><td>null</td><td>{\"coupon\": \"NONE\", \"bundle\": false, \"campaign\": \"BlackFriday\"}</td><td>0</td><td>2.75</td><td>0.1</td><td>0.28</td><td>3.03</td><td>List(NONE, false, BlackFriday)</td></tr><tr><td>2</td><td>2025-01-30T19:00:00.000Z</td><td>1</td><td>138</td><td>15</td><td>2</td><td>32.66</td><td>0.0</td><td>Card</td><td>InStore</td><td>3.0</td><td>{\"coupon\": \"LOYAL5\", \"bundle\": false, \"campaign\": \"BlackFriday\"}</td><td>0</td><td>65.32</td><td>0.07</td><td>4.57</td><td>69.89</td><td>List(LOYAL5, false, BlackFriday)</td></tr><tr><td>3</td><td>2024-10-18T18:46:00.000Z</td><td>6</td><td>208</td><td>54</td><td>2</td><td>23.82</td><td>0.1</td><td>GiftCard</td><td>ClickAndCollect</td><td>4.0</td><td>{\"coupon\": \"WEEKEND15\", \"bundle\": true, \"campaign\": \"SpringSale\"}</td><td>0</td><td>42.88</td><td>0.07</td><td>3.0</td><td>45.88</td><td>List(WEEKEND15, true, SpringSale)</td></tr><tr><td>4</td><td>2024-01-16T18:29:00.000Z</td><td>1</td><td>244</td><td>57</td><td>3</td><td>29.88</td><td>0.2</td><td>Card</td><td>InStore</td><td>4.0</td><td>{\"coupon\": \"LOYAL5\", \"bundle\": false, \"campaign\": \"SpringSale\"}</td><td>0</td><td>71.71</td><td>0.0</td><td>0.0</td><td>71.71</td><td>List(LOYAL5, false, SpringSale)</td></tr><tr><td>5</td><td>2024-12-24T12:13:00.000Z</td><td>8</td><td>145</td><td>29</td><td>2</td><td>41.9</td><td>0.0</td><td>MobilePay</td><td>InStore</td><td>4.0</td><td>{\"coupon\": \"NONE\", \"bundle\": false, \"campaign\": \"SpringSale\"}</td><td>0</td><td>83.8</td><td>0.1</td><td>8.38</td><td>92.18</td><td>List(NONE, false, SpringSale)</td></tr></tbody></table></div>"
      ]
     },
     "metadata": {
      "application/vnd.databricks.v1+output": {
       "addedWidgets": {},
       "aggData": [],
       "aggError": "",
       "aggOverflow": false,
       "aggSchema": [],
       "aggSeriesLimitReached": false,
       "aggType": "",
       "arguments": {},
       "columnCustomDisplayInfos": {},
       "data": [
        [
         1,
         "2024-11-13T10:02:00.000Z",
         4,
         147,
         9,
         1,
         2.75,
         0.0,
         "Cash",
         "Online",
         null,
         "{\"coupon\": \"NONE\", \"bundle\": false, \"campaign\": \"BlackFriday\"}",
         0,
         2.75,
         0.1,
         0.28,
         3.03,
         [
          "NONE",
          false,
          "BlackFriday"
         ]
        ],
        [
         2,
         "2025-01-30T19:00:00.000Z",
         1,
         138,
         15,
         2,
         32.66,
         0.0,
         "Card",
         "InStore",
         3.0,
         "{\"coupon\": \"LOYAL5\", \"bundle\": false, \"campaign\": \"BlackFriday\"}",
         0,
         65.32,
         0.07,
         4.57,
         69.89,
         [
          "LOYAL5",
          false,
          "BlackFriday"
         ]
        ],
        [
         3,
         "2024-10-18T18:46:00.000Z",
         6,
         208,
         54,
         2,
         23.82,
         0.1,
         "GiftCard",
         "ClickAndCollect",
         4.0,
         "{\"coupon\": \"WEEKEND15\", \"bundle\": true, \"campaign\": \"SpringSale\"}",
         0,
         42.88,
         0.07,
         3.0,
         45.88,
         [
          "WEEKEND15",
          true,
          "SpringSale"
         ]
        ],
        [
         4,
         "2024-01-16T18:29:00.000Z",
         1,
         244,
         57,
         3,
         29.88,
         0.2,
         "Card",
         "InStore",
         4.0,
         "{\"coupon\": \"LOYAL5\", \"bundle\": false, \"campaign\": \"SpringSale\"}",
         0,
         71.71,
         0.0,
         0.0,
         71.71,
         [
          "LOYAL5",
          false,
          "SpringSale"
         ]
        ],
        [
         5,
         "2024-12-24T12:13:00.000Z",
         8,
         145,
         29,
         2,
         41.9,
         0.0,
         "MobilePay",
         "InStore",
         4.0,
         "{\"coupon\": \"NONE\", \"bundle\": false, \"campaign\": \"SpringSale\"}",
         0,
         83.8,
         0.1,
         8.38,
         92.18,
         [
          "NONE",
          false,
          "SpringSale"
         ]
        ]
       ],
       "datasetInfos": [],
       "dbfsResultPath": null,
       "isJsonSchema": true,
       "metadata": {},
       "overflow": false,
       "plotOptions": {
        "customPlotOptions": {},
        "displayType": "table",
        "pivotAggregation": null,
        "pivotColumns": null,
        "xColumns": null,
        "yColumns": null
       },
       "removedWidgets": [],
       "schema": [
        {
         "metadata": "{}",
         "name": "transaction_id",
         "type": "\"long\""
        },
        {
         "metadata": "{}",
         "name": "transaction_ts",
         "type": "\"timestamp\""
        },
        {
         "metadata": "{}",
         "name": "store_id",
         "type": "\"integer\""
        },
        {
         "metadata": "{}",
         "name": "customer_id",
         "type": "\"integer\""
        },
        {
         "metadata": "{}",
         "name": "product_id",
         "type": "\"integer\""
        },
        {
         "metadata": "{}",
         "name": "quantity",
         "type": "\"integer\""
        },
        {
         "metadata": "{}",
         "name": "unit_price",
         "type": "\"double\""
        },
        {
         "metadata": "{}",
         "name": "discount_pct",
         "type": "\"double\""
        },
        {
         "metadata": "{}",
         "name": "payment_method",
         "type": "\"string\""
        },
        {
         "metadata": "{}",
         "name": "channel",
         "type": "\"string\""
        },
        {
         "metadata": "{}",
         "name": "review_rating",
         "type": "\"double\""
        },
        {
         "metadata": "{}",
         "name": "promo_meta_json",
         "type": "\"string\""
        },
        {
         "metadata": "{}",
         "name": "is_returned",
         "type": "\"integer\""
        },
        {
         "metadata": "{}",
         "name": "pre_tax_amount",
         "type": "\"double\""
        },
        {
         "metadata": "{}",
         "name": "tax_rate",
         "type": "\"double\""
        },
        {
         "metadata": "{}",
         "name": "tax_amount",
         "type": "\"double\""
        },
        {
         "metadata": "{}",
         "name": "total_amount",
         "type": "\"double\""
        },
        {
         "metadata": "{}",
         "name": "promo_meta",
         "type": "{\"fields\":[{\"metadata\":{},\"name\":\"coupon\",\"nullable\":true,\"type\":\"string\"},{\"metadata\":{},\"name\":\"bundle\",\"nullable\":true,\"type\":\"boolean\"},{\"metadata\":{},\"name\":\"campaign\",\"nullable\":true,\"type\":\"string\"}],\"type\":\"struct\"}"
        }
       ],
       "type": "table"
      }
     },
     "output_type": "display_data"
    }
   ],
   "source": [
    "\n",
    "tx = (tx_raw\n",
    "  .withColumn(\"transaction_id\", F.col(\"transaction_id\").cast(\"long\"))\n",
    "  .withColumn(\"store_id\",       F.col(\"store_id\").cast(\"int\"))\n",
    "  .withColumn(\"customer_id\",    F.col(\"customer_id\").cast(\"int\"))\n",
    "  .withColumn(\"product_id\",     F.col(\"product_id\").cast(\"int\"))\n",
    "  .withColumn(\"quantity\",       F.col(\"quantity\").cast(\"int\"))\n",
    "  .withColumn(\"unit_price\",     F.col(\"unit_price\").cast(\"double\"))\n",
    "  .withColumn(\"discount_pct\",   F.col(\"discount_pct\").cast(\"double\"))\n",
    "  .withColumn(\"review_rating\",  F.col(\"review_rating\").cast(\"double\"))\n",
    "  .withColumn(\"is_returned\",    F.col(\"is_returned\").cast(\"int\"))\n",
    "  .withColumn(\"pre_tax_amount\", F.col(\"pre_tax_amount\").cast(\"double\"))\n",
    "  .withColumn(\"tax_rate\",       F.col(\"tax_rate\").cast(\"double\"))\n",
    "  .withColumn(\"tax_amount\",     F.col(\"tax_amount\").cast(\"double\"))\n",
    "  .withColumn(\"total_amount\",   F.col(\"total_amount\").cast(\"double\"))\n",
    "  .withColumn(\"transaction_ts\", F.to_timestamp(\"transaction_ts\"))\n",
    ")\n",
    "\n",
    "promo_schema = T.StructType([\n",
    "  T.StructField(\"coupon\",   T.StringType()),\n",
    "  T.StructField(\"bundle\",   T.BooleanType()),\n",
    "  T.StructField(\"campaign\", T.StringType())\n",
    "])\n",
    "\n",
    "tx = tx.withColumn(\"promo_meta\", F.from_json(\"promo_meta_json\", promo_schema))\n",
    "\n",
    "display(tx.limit(5))\n"
   ]
  },
  {
   "cell_type": "markdown",
   "metadata": {
    "application/vnd.databricks.v1+cell": {
     "cellMetadata": {},
     "inputWidgets": {},
     "nuid": "a6cc1056-937d-4dd3-8796-d96b0df5a9fa",
     "showTitle": false,
     "tableResultSettingsMap": {},
     "title": ""
    }
   },
   "source": [
    "\n",
    "## Remove duplicate lines and flag outliers\n"
   ]
  },
  {
   "cell_type": "code",
   "execution_count": 0,
   "metadata": {
    "application/vnd.databricks.v1+cell": {
     "cellMetadata": {
      "byteLimit": 2048000,
      "rowLimit": 10000
     },
     "inputWidgets": {},
     "nuid": "04fc2845-f1a8-4233-93a0-76216f629c4c",
     "showTitle": false,
     "tableResultSettingsMap": {},
     "title": ""
    }
   },
   "outputs": [
    {
     "output_type": "stream",
     "name": "stdout",
     "output_type": "stream",
     "text": [
      "Original tx rows: 3512  | After de-dup: 3500\n"
     ]
    },
    {
     "output_type": "display_data",
     "data": {
      "text/html": [
       "<style scoped>\n",
       "  .table-result-container {\n",
       "    max-height: 300px;\n",
       "    overflow: auto;\n",
       "  }\n",
       "  table, th, td {\n",
       "    border: 1px solid black;\n",
       "    border-collapse: collapse;\n",
       "  }\n",
       "  th, td {\n",
       "    padding: 5px;\n",
       "  }\n",
       "  th {\n",
       "    text-align: left;\n",
       "  }\n",
       "</style><div class='table-result-container'><table class='table-result'><thead style='background-color: white'><tr><th>transaction_id</th><th>product_id</th><th>quantity</th><th>total_amount</th></tr></thead><tbody><tr><td>1486</td><td>52</td><td>250</td><td>2120.0</td></tr><tr><td>1642</td><td>1</td><td>100</td><td>4607.0</td></tr><tr><td>2188</td><td>56</td><td>100</td><td>4841.0</td></tr><tr><td>2290</td><td>11</td><td>100</td><td>156.0</td></tr><tr><td>2780</td><td>30</td><td>100</td><td>1570.0</td></tr></tbody></table></div>"
      ]
     },
     "metadata": {
      "application/vnd.databricks.v1+output": {
       "addedWidgets": {},
       "aggData": [],
       "aggError": "",
       "aggOverflow": false,
       "aggSchema": [],
       "aggSeriesLimitReached": false,
       "aggType": "",
       "arguments": {},
       "columnCustomDisplayInfos": {},
       "data": [
        [
         1486,
         52,
         250,
         2120.0
        ],
        [
         1642,
         1,
         100,
         4607.0
        ],
        [
         2188,
         56,
         100,
         4841.0
        ],
        [
         2290,
         11,
         100,
         156.0
        ],
        [
         2780,
         30,
         100,
         1570.0
        ]
       ],
       "datasetInfos": [],
       "dbfsResultPath": null,
       "isJsonSchema": true,
       "metadata": {},
       "overflow": false,
       "plotOptions": {
        "customPlotOptions": {},
        "displayType": "table",
        "pivotAggregation": null,
        "pivotColumns": null,
        "xColumns": null,
        "yColumns": null
       },
       "removedWidgets": [],
       "schema": [
        {
         "metadata": "{}",
         "name": "transaction_id",
         "type": "\"long\""
        },
        {
         "metadata": "{}",
         "name": "product_id",
         "type": "\"integer\""
        },
        {
         "metadata": "{}",
         "name": "quantity",
         "type": "\"integer\""
        },
        {
         "metadata": "{}",
         "name": "total_amount",
         "type": "\"double\""
        }
       ],
       "type": "table"
      }
     },
     "output_type": "display_data"
    }
   ],
   "source": [
    "\n",
    "w = Window.partitionBy(\"transaction_id\", \"product_id\").orderBy(F.col(\"transaction_ts\").desc_nulls_last())\n",
    "deduped = tx.withColumn(\"rn\", F.row_number().over(w)).filter(\"rn = 1\").drop(\"rn\")\n",
    "\n",
    "# Flag implausible quantities (keep them but mark for QA)\n",
    "cleaned = deduped.withColumn(\"is_outlier_qty\", F.col(\"quantity\") > 20)\n",
    "\n",
    "print(\"Original tx rows:\", tx_raw.count(), \" | After de-dup:\", deduped.count())\n",
    "display(cleaned.filter(\"is_outlier_qty = true\").select(\"transaction_id\",\"product_id\",\"quantity\",\"total_amount\").limit(10))\n"
   ]
  },
  {
   "cell_type": "markdown",
   "metadata": {
    "application/vnd.databricks.v1+cell": {
     "cellMetadata": {},
     "inputWidgets": {},
     "nuid": "85bc5d2f-d581-479f-8556-52d4ca684437",
     "showTitle": false,
     "tableResultSettingsMap": {},
     "title": ""
    }
   },
   "source": [
    "\n",
    "## Join dimensions and compute derived metrics\n"
   ]
  },
  {
   "cell_type": "code",
   "execution_count": 0,
   "metadata": {
    "application/vnd.databricks.v1+cell": {
     "cellMetadata": {
      "byteLimit": 2048000,
      "rowLimit": 10000
     },
     "inputWidgets": {},
     "nuid": "f0440dc9-9739-427b-9555-2abcb3cba703",
     "showTitle": false,
     "tableResultSettingsMap": {},
     "title": ""
    }
   },
   "outputs": [
    {
     "output_type": "display_data",
     "data": {
      "text/html": [
       "<style scoped>\n",
       "  .table-result-container {\n",
       "    max-height: 300px;\n",
       "    overflow: auto;\n",
       "  }\n",
       "  table, th, td {\n",
       "    border: 1px solid black;\n",
       "    border-collapse: collapse;\n",
       "  }\n",
       "  th, td {\n",
       "    padding: 5px;\n",
       "  }\n",
       "  th {\n",
       "    text-align: left;\n",
       "  }\n",
       "</style><div class='table-result-container'><table class='table-result'><thead style='background-color: white'><tr><th>store_id</th><th>customer_id</th><th>product_id</th><th>transaction_id</th><th>transaction_ts</th><th>quantity</th><th>unit_price</th><th>discount_pct</th><th>payment_method</th><th>channel</th><th>review_rating</th><th>promo_meta_json</th><th>is_returned</th><th>pre_tax_amount</th><th>tax_rate</th><th>tax_amount</th><th>total_amount</th><th>promo_meta</th><th>is_outlier_qty</th><th>product_name</th><th>category</th><th>brand</th><th>unit_price_list</th><th>tax_rate</th><th>first_name</th><th>last_name</th><th>email</th><th>signup_date</th><th>age</th><th>loyalty_tier</th><th>is_student</th><th>home_city</th><th>home_region</th><th>store_name</th><th>city</th><th>region</th><th>opened_date</th><th>store_type</th><th>year</th><th>month</th><th>net_after_discount</th></tr></thead><tbody><tr><td>4</td><td>147</td><td>9</td><td>1</td><td>2024-11-13T10:02:00.000Z</td><td>1</td><td>2.75</td><td>0.0</td><td>Cash</td><td>Online</td><td>null</td><td>{\"coupon\": \"NONE\", \"bundle\": false, \"campaign\": \"BlackFriday\"}</td><td>0</td><td>2.75</td><td>0.1</td><td>0.28</td><td>3.03</td><td>List(NONE, false, BlackFriday)</td><td>false</td><td>Bakery Item 9</td><td>Bakery</td><td>Soylent</td><td>2.57</td><td>0.1</td><td>Mackenzie</td><td>Oconnell</td><td>jfrench@gmail.com</td><td>2023-08-11</td><td>70</td><td>Bronze</td><td>1</td><td>North Scott</td><td>South Dakota</td><td>Store #4</td><td>Taylorland</td><td>Arizona</td><td>2022-02-11</td><td>Urban</td><td>2024</td><td>11</td><td>2.75</td></tr><tr><td>1</td><td>138</td><td>15</td><td>2</td><td>2025-01-30T19:00:00.000Z</td><td>2</td><td>32.66</td><td>0.0</td><td>Card</td><td>InStore</td><td>3.0</td><td>{\"coupon\": \"LOYAL5\", \"bundle\": false, \"campaign\": \"BlackFriday\"}</td><td>0</td><td>65.32</td><td>0.07</td><td>4.57</td><td>69.89</td><td>List(LOYAL5, false, BlackFriday)</td><td>false</td><td>Produce Item 15</td><td>Produce</td><td>Acme</td><td>31.2</td><td>0.07</td><td>Tara</td><td>Haas</td><td>dorothyholmes@yahoo.com</td><td>2023-09-04</td><td>44</td><td>Gold</td><td>0</td><td>Port Miranda</td><td>Ohio</td><td>Store #1</td><td>Salinasshire</td><td>Georgia</td><td>2021-08-09</td><td>Suburban</td><td>2025</td><td>1</td><td>65.32</td></tr><tr><td>6</td><td>208</td><td>54</td><td>3</td><td>2024-10-18T18:46:00.000Z</td><td>2</td><td>23.82</td><td>0.1</td><td>GiftCard</td><td>ClickAndCollect</td><td>4.0</td><td>{\"coupon\": \"WEEKEND15\", \"bundle\": true, \"campaign\": \"SpringSale\"}</td><td>0</td><td>42.88</td><td>0.07</td><td>3.0</td><td>45.88</td><td>List(WEEKEND15, true, SpringSale)</td><td>false</td><td>Dairy Item 54</td><td>Dairy</td><td>Initech</td><td>21.11</td><td>0.07</td><td>Robert</td><td>Nichols</td><td>kmartin@yahoo.com</td><td>2025-03-11</td><td>34</td><td>Bronze</td><td>0</td><td>Lake Bryanhaven</td><td>Hawaii</td><td>Store #6</td><td>Villarrealberg</td><td>Massachusetts</td><td>2021-08-26</td><td>Urban</td><td>2024</td><td>10</td><td>42.876000000000005</td></tr><tr><td>1</td><td>244</td><td>57</td><td>4</td><td>2024-01-16T18:29:00.000Z</td><td>3</td><td>29.88</td><td>0.2</td><td>Card</td><td>InStore</td><td>4.0</td><td>{\"coupon\": \"LOYAL5\", \"bundle\": false, \"campaign\": \"SpringSale\"}</td><td>0</td><td>71.71</td><td>0.0</td><td>0.0</td><td>71.71</td><td>List(LOYAL5, false, SpringSale)</td><td>false</td><td>Bakery Item 57</td><td>Bakery</td><td>Umbrella</td><td>27.95</td><td>0.0</td><td>James</td><td>Henderson</td><td>cooperjessica@gmail.com</td><td>2022-08-19</td><td>73</td><td>Bronze</td><td>0</td><td>South David</td><td>Connecticut</td><td>Store #1</td><td>Salinasshire</td><td>Georgia</td><td>2021-08-09</td><td>Suburban</td><td>2024</td><td>1</td><td>71.712</td></tr><tr><td>8</td><td>145</td><td>29</td><td>5</td><td>2024-12-24T12:13:00.000Z</td><td>2</td><td>41.9</td><td>0.0</td><td>MobilePay</td><td>InStore</td><td>4.0</td><td>{\"coupon\": \"NONE\", \"bundle\": false, \"campaign\": \"SpringSale\"}</td><td>0</td><td>83.8</td><td>0.1</td><td>8.38</td><td>92.18</td><td>List(NONE, false, SpringSale)</td><td>false</td><td>Beverages Item 29</td><td>Beverages</td><td>Stark</td><td>41.45</td><td>0.1</td><td>Nicole</td><td>Daniels</td><td>ksweeney@davis-phillips.com</td><td>2022-12-21</td><td>46</td><td>Gold</td><td>0</td><td>Jenniferstad</td><td>Tennessee</td><td>Store #8</td><td>North Carla</td><td>Indiana</td><td>2022-11-15</td><td>Suburban</td><td>2024</td><td>12</td><td>83.8</td></tr></tbody></table></div>"
      ]
     },
     "metadata": {
      "application/vnd.databricks.v1+output": {
       "addedWidgets": {},
       "aggData": [],
       "aggError": "",
       "aggOverflow": false,
       "aggSchema": [],
       "aggSeriesLimitReached": false,
       "aggType": "",
       "arguments": {},
       "columnCustomDisplayInfos": {},
       "data": [
        [
         4,
         147,
         9,
         1,
         "2024-11-13T10:02:00.000Z",
         1,
         2.75,
         0.0,
         "Cash",
         "Online",
         null,
         "{\"coupon\": \"NONE\", \"bundle\": false, \"campaign\": \"BlackFriday\"}",
         0,
         2.75,
         0.1,
         0.28,
         3.03,
         [
          "NONE",
          false,
          "BlackFriday"
         ],
         false,
         "Bakery Item 9",
         "Bakery",
         "Soylent",
         2.57,
         0.1,
         "Mackenzie",
         "Oconnell",
         "jfrench@gmail.com",
         "2023-08-11",
         70,
         "Bronze",
         1,
         "North Scott",
         "South Dakota",
         "Store #4",
         "Taylorland",
         "Arizona",
         "2022-02-11",
         "Urban",
         2024,
         11,
         2.75
        ],
        [
         1,
         138,
         15,
         2,
         "2025-01-30T19:00:00.000Z",
         2,
         32.66,
         0.0,
         "Card",
         "InStore",
         3.0,
         "{\"coupon\": \"LOYAL5\", \"bundle\": false, \"campaign\": \"BlackFriday\"}",
         0,
         65.32,
         0.07,
         4.57,
         69.89,
         [
          "LOYAL5",
          false,
          "BlackFriday"
         ],
         false,
         "Produce Item 15",
         "Produce",
         "Acme",
         31.2,
         0.07,
         "Tara",
         "Haas",
         "dorothyholmes@yahoo.com",
         "2023-09-04",
         44,
         "Gold",
         0,
         "Port Miranda",
         "Ohio",
         "Store #1",
         "Salinasshire",
         "Georgia",
         "2021-08-09",
         "Suburban",
         2025,
         1,
         65.32
        ],
        [
         6,
         208,
         54,
         3,
         "2024-10-18T18:46:00.000Z",
         2,
         23.82,
         0.1,
         "GiftCard",
         "ClickAndCollect",
         4.0,
         "{\"coupon\": \"WEEKEND15\", \"bundle\": true, \"campaign\": \"SpringSale\"}",
         0,
         42.88,
         0.07,
         3.0,
         45.88,
         [
          "WEEKEND15",
          true,
          "SpringSale"
         ],
         false,
         "Dairy Item 54",
         "Dairy",
         "Initech",
         21.11,
         0.07,
         "Robert",
         "Nichols",
         "kmartin@yahoo.com",
         "2025-03-11",
         34,
         "Bronze",
         0,
         "Lake Bryanhaven",
         "Hawaii",
         "Store #6",
         "Villarrealberg",
         "Massachusetts",
         "2021-08-26",
         "Urban",
         2024,
         10,
         42.876000000000005
        ],
        [
         1,
         244,
         57,
         4,
         "2024-01-16T18:29:00.000Z",
         3,
         29.88,
         0.2,
         "Card",
         "InStore",
         4.0,
         "{\"coupon\": \"LOYAL5\", \"bundle\": false, \"campaign\": \"SpringSale\"}",
         0,
         71.71,
         0.0,
         0.0,
         71.71,
         [
          "LOYAL5",
          false,
          "SpringSale"
         ],
         false,
         "Bakery Item 57",
         "Bakery",
         "Umbrella",
         27.95,
         0.0,
         "James",
         "Henderson",
         "cooperjessica@gmail.com",
         "2022-08-19",
         73,
         "Bronze",
         0,
         "South David",
         "Connecticut",
         "Store #1",
         "Salinasshire",
         "Georgia",
         "2021-08-09",
         "Suburban",
         2024,
         1,
         71.712
        ],
        [
         8,
         145,
         29,
         5,
         "2024-12-24T12:13:00.000Z",
         2,
         41.9,
         0.0,
         "MobilePay",
         "InStore",
         4.0,
         "{\"coupon\": \"NONE\", \"bundle\": false, \"campaign\": \"SpringSale\"}",
         0,
         83.8,
         0.1,
         8.38,
         92.18,
         [
          "NONE",
          false,
          "SpringSale"
         ],
         false,
         "Beverages Item 29",
         "Beverages",
         "Stark",
         41.45,
         0.1,
         "Nicole",
         "Daniels",
         "ksweeney@davis-phillips.com",
         "2022-12-21",
         46,
         "Gold",
         0,
         "Jenniferstad",
         "Tennessee",
         "Store #8",
         "North Carla",
         "Indiana",
         "2022-11-15",
         "Suburban",
         2024,
         12,
         83.8
        ]
       ],
       "datasetInfos": [],
       "dbfsResultPath": null,
       "isJsonSchema": true,
       "metadata": {},
       "overflow": false,
       "plotOptions": {
        "customPlotOptions": {},
        "displayType": "table",
        "pivotAggregation": null,
        "pivotColumns": null,
        "xColumns": null,
        "yColumns": null
       },
       "removedWidgets": [],
       "schema": [
        {
         "metadata": "{}",
         "name": "store_id",
         "type": "\"integer\""
        },
        {
         "metadata": "{}",
         "name": "customer_id",
         "type": "\"integer\""
        },
        {
         "metadata": "{}",
         "name": "product_id",
         "type": "\"integer\""
        },
        {
         "metadata": "{}",
         "name": "transaction_id",
         "type": "\"long\""
        },
        {
         "metadata": "{}",
         "name": "transaction_ts",
         "type": "\"timestamp\""
        },
        {
         "metadata": "{}",
         "name": "quantity",
         "type": "\"integer\""
        },
        {
         "metadata": "{}",
         "name": "unit_price",
         "type": "\"double\""
        },
        {
         "metadata": "{}",
         "name": "discount_pct",
         "type": "\"double\""
        },
        {
         "metadata": "{}",
         "name": "payment_method",
         "type": "\"string\""
        },
        {
         "metadata": "{}",
         "name": "channel",
         "type": "\"string\""
        },
        {
         "metadata": "{}",
         "name": "review_rating",
         "type": "\"double\""
        },
        {
         "metadata": "{}",
         "name": "promo_meta_json",
         "type": "\"string\""
        },
        {
         "metadata": "{}",
         "name": "is_returned",
         "type": "\"integer\""
        },
        {
         "metadata": "{}",
         "name": "pre_tax_amount",
         "type": "\"double\""
        },
        {
         "metadata": "{}",
         "name": "tax_rate",
         "type": "\"double\""
        },
        {
         "metadata": "{}",
         "name": "tax_amount",
         "type": "\"double\""
        },
        {
         "metadata": "{}",
         "name": "total_amount",
         "type": "\"double\""
        },
        {
         "metadata": "{}",
         "name": "promo_meta",
         "type": "{\"fields\":[{\"metadata\":{},\"name\":\"coupon\",\"nullable\":true,\"type\":\"string\"},{\"metadata\":{},\"name\":\"bundle\",\"nullable\":true,\"type\":\"boolean\"},{\"metadata\":{},\"name\":\"campaign\",\"nullable\":true,\"type\":\"string\"}],\"type\":\"struct\"}"
        },
        {
         "metadata": "{}",
         "name": "is_outlier_qty",
         "type": "\"boolean\""
        },
        {
         "metadata": "{}",
         "name": "product_name",
         "type": "\"string\""
        },
        {
         "metadata": "{}",
         "name": "category",
         "type": "\"string\""
        },
        {
         "metadata": "{}",
         "name": "brand",
         "type": "\"string\""
        },
        {
         "metadata": "{}",
         "name": "unit_price_list",
         "type": "\"double\""
        },
        {
         "metadata": "{}",
         "name": "tax_rate",
         "type": "\"double\""
        },
        {
         "metadata": "{}",
         "name": "first_name",
         "type": "\"string\""
        },
        {
         "metadata": "{}",
         "name": "last_name",
         "type": "\"string\""
        },
        {
         "metadata": "{}",
         "name": "email",
         "type": "\"string\""
        },
        {
         "metadata": "{}",
         "name": "signup_date",
         "type": "\"string\""
        },
        {
         "metadata": "{}",
         "name": "age",
         "type": "\"long\""
        },
        {
         "metadata": "{}",
         "name": "loyalty_tier",
         "type": "\"string\""
        },
        {
         "metadata": "{}",
         "name": "is_student",
         "type": "\"long\""
        },
        {
         "metadata": "{}",
         "name": "home_city",
         "type": "\"string\""
        },
        {
         "metadata": "{}",
         "name": "home_region",
         "type": "\"string\""
        },
        {
         "metadata": "{}",
         "name": "store_name",
         "type": "\"string\""
        },
        {
         "metadata": "{}",
         "name": "city",
         "type": "\"string\""
        },
        {
         "metadata": "{}",
         "name": "region",
         "type": "\"string\""
        },
        {
         "metadata": "{}",
         "name": "opened_date",
         "type": "\"string\""
        },
        {
         "metadata": "{}",
         "name": "store_type",
         "type": "\"string\""
        },
        {
         "metadata": "{}",
         "name": "year",
         "type": "\"integer\""
        },
        {
         "metadata": "{}",
         "name": "month",
         "type": "\"integer\""
        },
        {
         "metadata": "{}",
         "name": "net_after_discount",
         "type": "\"double\""
        }
       ],
       "type": "table"
      }
     },
     "output_type": "display_data"
    }
   ],
   "source": [
    "\n",
    "products_t = products.select(\n",
    "    F.col(\"product_id\").cast(\"int\").alias(\"product_id\"),\n",
    "    \"product_name\",\"category\",\"brand\",\"unit_price_list\",\"tax_rate\"\n",
    ")\n",
    "\n",
    "customers_t = customers.select(\n",
    "    F.col(\"customer_id\").cast(\"int\").alias(\"customer_id\"),\n",
    "    \"first_name\",\"last_name\",\"email\",\"signup_date\",\"age\",\"loyalty_tier\",\"is_student\",\"home_city\",\"home_region\"\n",
    ")\n",
    "\n",
    "stores_t = stores.select(\n",
    "    F.col(\"store_id\").cast(\"int\").alias(\"store_id\"),\n",
    "    \"store_name\",\"city\",\"region\",\"opened_date\",\"store_type\"\n",
    ")\n",
    "\n",
    "fact = (cleaned\n",
    "    .join(products_t, \"product_id\", \"left\")\n",
    "    .join(customers_t, \"customer_id\", \"left\")\n",
    "    .join(stores_t, \"store_id\", \"left\")\n",
    "    .withColumn(\"year\", F.year(\"transaction_ts\"))\n",
    "    .withColumn(\"month\", F.month(\"transaction_ts\"))\n",
    "    .withColumn(\"net_after_discount\", (F.col(\"quantity\")*F.col(\"unit_price\")*(1-F.col(\"discount_pct\"))).cast(\"double\"))\n",
    ")\n",
    "\n",
    "display(fact.limit(5))\n"
   ]
  },
  {
   "cell_type": "markdown",
   "metadata": {
    "application/vnd.databricks.v1+cell": {
     "cellMetadata": {},
     "inputWidgets": {},
     "nuid": "19b681de-ccce-407e-b3f2-5abe1028b3d5",
     "showTitle": false,
     "tableResultSettingsMap": {},
     "title": ""
    }
   },
   "source": [
    "\n",
    "## Aggregations\n"
   ]
  },
  {
   "cell_type": "code",
   "execution_count": 0,
   "metadata": {
    "application/vnd.databricks.v1+cell": {
     "cellMetadata": {
      "byteLimit": 2048000,
      "rowLimit": 10000
     },
     "inputWidgets": {},
     "nuid": "59e79989-f908-48e0-ad46-68c5bfc83ec0",
     "showTitle": false,
     "tableResultSettingsMap": {},
     "title": ""
    }
   },
   "outputs": [
    {
     "output_type": "display_data",
     "data": {
      "text/html": [
       "<style scoped>\n",
       "  .table-result-container {\n",
       "    max-height: 300px;\n",
       "    overflow: auto;\n",
       "  }\n",
       "  table, th, td {\n",
       "    border: 1px solid black;\n",
       "    border-collapse: collapse;\n",
       "  }\n",
       "  th, td {\n",
       "    padding: 5px;\n",
       "  }\n",
       "  th {\n",
       "    text-align: left;\n",
       "  }\n",
       "</style><div class='table-result-container'><table class='table-result'><thead style='background-color: white'><tr><th>year</th><th>month</th><th>category</th><th>revenue</th></tr></thead><tbody><tr><td>2024</td><td>1</td><td>Bakery</td><td>1511.8</td></tr><tr><td>2024</td><td>1</td><td>Beverages</td><td>1394.89</td></tr><tr><td>2024</td><td>1</td><td>Dairy</td><td>384.07</td></tr><tr><td>2024</td><td>1</td><td>Household</td><td>1745.28</td></tr><tr><td>2024</td><td>1</td><td>Personal Care</td><td>1045.76</td></tr><tr><td>2024</td><td>1</td><td>Produce</td><td>1373.09</td></tr><tr><td>2024</td><td>1</td><td>Snacks</td><td>691.17</td></tr><tr><td>2024</td><td>2</td><td>Bakery</td><td>1722.42</td></tr><tr><td>2024</td><td>2</td><td>Beverages</td><td>2387.83</td></tr><tr><td>2024</td><td>2</td><td>Dairy</td><td>628.83</td></tr><tr><td>2024</td><td>2</td><td>Household</td><td>823.71</td></tr><tr><td>2024</td><td>2</td><td>Personal Care</td><td>1113.82</td></tr><tr><td>2024</td><td>2</td><td>Produce</td><td>793.41</td></tr><tr><td>2024</td><td>2</td><td>Snacks</td><td>1077.43</td></tr><tr><td>2024</td><td>3</td><td>Bakery</td><td>2126.94</td></tr><tr><td>2024</td><td>3</td><td>Beverages</td><td>1305.45</td></tr><tr><td>2024</td><td>3</td><td>Dairy</td><td>1191.7</td></tr><tr><td>2024</td><td>3</td><td>Household</td><td>818.78</td></tr><tr><td>2024</td><td>3</td><td>Personal Care</td><td>2104.16</td></tr><tr><td>2024</td><td>3</td><td>Produce</td><td>3294.9</td></tr><tr><td>2024</td><td>3</td><td>Snacks</td><td>1674.77</td></tr><tr><td>2024</td><td>4</td><td>Bakery</td><td>2123.8</td></tr><tr><td>2024</td><td>4</td><td>Beverages</td><td>1571.39</td></tr><tr><td>2024</td><td>4</td><td>Dairy</td><td>502.28</td></tr><tr><td>2024</td><td>4</td><td>Household</td><td>1190.87</td></tr><tr><td>2024</td><td>4</td><td>Personal Care</td><td>1798.17</td></tr><tr><td>2024</td><td>4</td><td>Produce</td><td>1301.17</td></tr><tr><td>2024</td><td>4</td><td>Snacks</td><td>747.33</td></tr><tr><td>2024</td><td>5</td><td>Bakery</td><td>1582.63</td></tr><tr><td>2024</td><td>5</td><td>Beverages</td><td>1656.72</td></tr><tr><td>2024</td><td>5</td><td>Dairy</td><td>2198.91</td></tr><tr><td>2024</td><td>5</td><td>Household</td><td>1102.51</td></tr><tr><td>2024</td><td>5</td><td>Personal Care</td><td>2061.93</td></tr><tr><td>2024</td><td>5</td><td>Produce</td><td>1638.4</td></tr><tr><td>2024</td><td>5</td><td>Snacks</td><td>949.24</td></tr><tr><td>2024</td><td>6</td><td>Bakery</td><td>3091.32</td></tr><tr><td>2024</td><td>6</td><td>Beverages</td><td>1352.02</td></tr><tr><td>2024</td><td>6</td><td>Dairy</td><td>680.5</td></tr><tr><td>2024</td><td>6</td><td>Household</td><td>829.4</td></tr><tr><td>2024</td><td>6</td><td>Personal Care</td><td>1226.77</td></tr><tr><td>2024</td><td>6</td><td>Produce</td><td>1256.74</td></tr><tr><td>2024</td><td>6</td><td>Snacks</td><td>519.85</td></tr><tr><td>2024</td><td>7</td><td>Bakery</td><td>2375.34</td></tr><tr><td>2024</td><td>7</td><td>Beverages</td><td>6679.84</td></tr><tr><td>2024</td><td>7</td><td>Dairy</td><td>392.24</td></tr><tr><td>2024</td><td>7</td><td>Household</td><td>768.22</td></tr><tr><td>2024</td><td>7</td><td>Personal Care</td><td>1655.4</td></tr><tr><td>2024</td><td>7</td><td>Produce</td><td>2258.72</td></tr><tr><td>2024</td><td>7</td><td>Snacks</td><td>381.43</td></tr><tr><td>2024</td><td>8</td><td>Bakery</td><td>2909.02</td></tr><tr><td>2024</td><td>8</td><td>Beverages</td><td>2353.19</td></tr><tr><td>2024</td><td>8</td><td>Dairy</td><td>808.94</td></tr><tr><td>2024</td><td>8</td><td>Household</td><td>1619.93</td></tr><tr><td>2024</td><td>8</td><td>Personal Care</td><td>1539.18</td></tr><tr><td>2024</td><td>8</td><td>Produce</td><td>1045.58</td></tr><tr><td>2024</td><td>8</td><td>Snacks</td><td>1058.89</td></tr><tr><td>2024</td><td>9</td><td>Bakery</td><td>2429.4</td></tr><tr><td>2024</td><td>9</td><td>Beverages</td><td>1728.98</td></tr><tr><td>2024</td><td>9</td><td>Dairy</td><td>1113.27</td></tr><tr><td>2024</td><td>9</td><td>Household</td><td>1294.72</td></tr><tr><td>2024</td><td>9</td><td>Personal Care</td><td>1209.33</td></tr><tr><td>2024</td><td>9</td><td>Produce</td><td>1615.33</td></tr><tr><td>2024</td><td>9</td><td>Snacks</td><td>902.41</td></tr><tr><td>2024</td><td>10</td><td>Bakery</td><td>2322.11</td></tr><tr><td>2024</td><td>10</td><td>Beverages</td><td>2045.69</td></tr><tr><td>2024</td><td>10</td><td>Dairy</td><td>514.6</td></tr><tr><td>2024</td><td>10</td><td>Household</td><td>928.12</td></tr><tr><td>2024</td><td>10</td><td>Personal Care</td><td>1378.25</td></tr><tr><td>2024</td><td>10</td><td>Produce</td><td>1512.14</td></tr><tr><td>2024</td><td>10</td><td>Snacks</td><td>466.81</td></tr><tr><td>2024</td><td>11</td><td>Bakery</td><td>1365.71</td></tr><tr><td>2024</td><td>11</td><td>Beverages</td><td>1850.44</td></tr><tr><td>2024</td><td>11</td><td>Dairy</td><td>562.65</td></tr><tr><td>2024</td><td>11</td><td>Household</td><td>1173.48</td></tr><tr><td>2024</td><td>11</td><td>Personal Care</td><td>1335.05</td></tr><tr><td>2024</td><td>11</td><td>Produce</td><td>1426.11</td></tr><tr><td>2024</td><td>11</td><td>Snacks</td><td>359.52</td></tr><tr><td>2024</td><td>12</td><td>Bakery</td><td>1817.17</td></tr><tr><td>2024</td><td>12</td><td>Beverages</td><td>2422.36</td></tr><tr><td>2024</td><td>12</td><td>Dairy</td><td>846.16</td></tr><tr><td>2024</td><td>12</td><td>Household</td><td>1121.64</td></tr><tr><td>2024</td><td>12</td><td>Personal Care</td><td>2000.07</td></tr><tr><td>2024</td><td>12</td><td>Produce</td><td>1905.46</td></tr><tr><td>2024</td><td>12</td><td>Snacks</td><td>1549.95</td></tr><tr><td>2025</td><td>1</td><td>Bakery</td><td>2111.55</td></tr><tr><td>2025</td><td>1</td><td>Beverages</td><td>2205.68</td></tr><tr><td>2025</td><td>1</td><td>Dairy</td><td>602.4</td></tr><tr><td>2025</td><td>1</td><td>Household</td><td>1709.48</td></tr><tr><td>2025</td><td>1</td><td>Personal Care</td><td>1580.81</td></tr><tr><td>2025</td><td>1</td><td>Produce</td><td>1477.32</td></tr><tr><td>2025</td><td>1</td><td>Snacks</td><td>414.01</td></tr><tr><td>2025</td><td>2</td><td>Bakery</td><td>1467.19</td></tr><tr><td>2025</td><td>2</td><td>Beverages</td><td>1803.0</td></tr><tr><td>2025</td><td>2</td><td>Dairy</td><td>292.29</td></tr><tr><td>2025</td><td>2</td><td>Household</td><td>523.0</td></tr><tr><td>2025</td><td>2</td><td>Personal Care</td><td>1653.78</td></tr><tr><td>2025</td><td>2</td><td>Produce</td><td>2333.56</td></tr><tr><td>2025</td><td>2</td><td>Snacks</td><td>305.64</td></tr><tr><td>2025</td><td>3</td><td>Bakery</td><td>2021.25</td></tr><tr><td>2025</td><td>3</td><td>Beverages</td><td>2547.94</td></tr><tr><td>2025</td><td>3</td><td>Dairy</td><td>509.52</td></tr><tr><td>2025</td><td>3</td><td>Household</td><td>1263.87</td></tr><tr><td>2025</td><td>3</td><td>Personal Care</td><td>1432.02</td></tr><tr><td>2025</td><td>3</td><td>Produce</td><td>1463.5</td></tr><tr><td>2025</td><td>3</td><td>Snacks</td><td>687.45</td></tr><tr><td>2025</td><td>4</td><td>Bakery</td><td>2646.48</td></tr><tr><td>2025</td><td>4</td><td>Beverages</td><td>1615.54</td></tr><tr><td>2025</td><td>4</td><td>Dairy</td><td>541.43</td></tr><tr><td>2025</td><td>4</td><td>Household</td><td>799.91</td></tr><tr><td>2025</td><td>4</td><td>Personal Care</td><td>1817.36</td></tr><tr><td>2025</td><td>4</td><td>Produce</td><td>849.36</td></tr><tr><td>2025</td><td>4</td><td>Snacks</td><td>766.26</td></tr><tr><td>2025</td><td>5</td><td>Bakery</td><td>3446.84</td></tr><tr><td>2025</td><td>5</td><td>Beverages</td><td>1793.98</td></tr><tr><td>2025</td><td>5</td><td>Dairy</td><td>916.66</td></tr><tr><td>2025</td><td>5</td><td>Household</td><td>925.35</td></tr><tr><td>2025</td><td>5</td><td>Personal Care</td><td>2107.29</td></tr><tr><td>2025</td><td>5</td><td>Produce</td><td>2197.03</td></tr><tr><td>2025</td><td>5</td><td>Snacks</td><td>637.45</td></tr><tr><td>2025</td><td>6</td><td>Bakery</td><td>2355.15</td></tr><tr><td>2025</td><td>6</td><td>Beverages</td><td>1484.16</td></tr><tr><td>2025</td><td>6</td><td>Dairy</td><td>667.57</td></tr><tr><td>2025</td><td>6</td><td>Household</td><td>1642.48</td></tr><tr><td>2025</td><td>6</td><td>Personal Care</td><td>1427.3</td></tr><tr><td>2025</td><td>6</td><td>Produce</td><td>1096.56</td></tr><tr><td>2025</td><td>6</td><td>Snacks</td><td>999.2</td></tr><tr><td>2025</td><td>7</td><td>Bakery</td><td>2258.48</td></tr><tr><td>2025</td><td>7</td><td>Beverages</td><td>2875.45</td></tr><tr><td>2025</td><td>7</td><td>Dairy</td><td>680.89</td></tr><tr><td>2025</td><td>7</td><td>Household</td><td>1263.8</td></tr><tr><td>2025</td><td>7</td><td>Personal Care</td><td>1115.49</td></tr><tr><td>2025</td><td>7</td><td>Produce</td><td>1252.91</td></tr><tr><td>2025</td><td>7</td><td>Snacks</td><td>569.62</td></tr><tr><td>2025</td><td>8</td><td>Bakery</td><td>7289.48</td></tr><tr><td>2025</td><td>8</td><td>Beverages</td><td>1384.19</td></tr><tr><td>2025</td><td>8</td><td>Dairy</td><td>546.33</td></tr><tr><td>2025</td><td>8</td><td>Household</td><td>1627.65</td></tr><tr><td>2025</td><td>8</td><td>Personal Care</td><td>1654.49</td></tr><tr><td>2025</td><td>8</td><td>Produce</td><td>1357.54</td></tr><tr><td>2025</td><td>8</td><td>Snacks</td><td>767.06</td></tr><tr><td>2025</td><td>9</td><td>Bakery</td><td>2340.59</td></tr><tr><td>2025</td><td>9</td><td>Beverages</td><td>1611.1</td></tr><tr><td>2025</td><td>9</td><td>Dairy</td><td>839.75</td></tr><tr><td>2025</td><td>9</td><td>Household</td><td>1054.82</td></tr><tr><td>2025</td><td>9</td><td>Personal Care</td><td>1581.36</td></tr><tr><td>2025</td><td>9</td><td>Produce</td><td>1086.08</td></tr><tr><td>2025</td><td>9</td><td>Snacks</td><td>587.4</td></tr></tbody></table></div>"
      ]
     },
     "metadata": {
      "application/vnd.databricks.v1+output": {
       "addedWidgets": {},
       "aggData": [],
       "aggError": "",
       "aggOverflow": false,
       "aggSchema": [],
       "aggSeriesLimitReached": false,
       "aggType": "",
       "arguments": {},
       "columnCustomDisplayInfos": {},
       "data": [
        [
         2024,
         1,
         "Bakery",
         1511.8
        ],
        [
         2024,
         1,
         "Beverages",
         1394.89
        ],
        [
         2024,
         1,
         "Dairy",
         384.07
        ],
        [
         2024,
         1,
         "Household",
         1745.28
        ],
        [
         2024,
         1,
         "Personal Care",
         1045.76
        ],
        [
         2024,
         1,
         "Produce",
         1373.09
        ],
        [
         2024,
         1,
         "Snacks",
         691.17
        ],
        [
         2024,
         2,
         "Bakery",
         1722.42
        ],
        [
         2024,
         2,
         "Beverages",
         2387.83
        ],
        [
         2024,
         2,
         "Dairy",
         628.83
        ],
        [
         2024,
         2,
         "Household",
         823.71
        ],
        [
         2024,
         2,
         "Personal Care",
         1113.82
        ],
        [
         2024,
         2,
         "Produce",
         793.41
        ],
        [
         2024,
         2,
         "Snacks",
         1077.43
        ],
        [
         2024,
         3,
         "Bakery",
         2126.94
        ],
        [
         2024,
         3,
         "Beverages",
         1305.45
        ],
        [
         2024,
         3,
         "Dairy",
         1191.7
        ],
        [
         2024,
         3,
         "Household",
         818.78
        ],
        [
         2024,
         3,
         "Personal Care",
         2104.16
        ],
        [
         2024,
         3,
         "Produce",
         3294.9
        ],
        [
         2024,
         3,
         "Snacks",
         1674.77
        ],
        [
         2024,
         4,
         "Bakery",
         2123.8
        ],
        [
         2024,
         4,
         "Beverages",
         1571.39
        ],
        [
         2024,
         4,
         "Dairy",
         502.28
        ],
        [
         2024,
         4,
         "Household",
         1190.87
        ],
        [
         2024,
         4,
         "Personal Care",
         1798.17
        ],
        [
         2024,
         4,
         "Produce",
         1301.17
        ],
        [
         2024,
         4,
         "Snacks",
         747.33
        ],
        [
         2024,
         5,
         "Bakery",
         1582.63
        ],
        [
         2024,
         5,
         "Beverages",
         1656.72
        ],
        [
         2024,
         5,
         "Dairy",
         2198.91
        ],
        [
         2024,
         5,
         "Household",
         1102.51
        ],
        [
         2024,
         5,
         "Personal Care",
         2061.93
        ],
        [
         2024,
         5,
         "Produce",
         1638.4
        ],
        [
         2024,
         5,
         "Snacks",
         949.24
        ],
        [
         2024,
         6,
         "Bakery",
         3091.32
        ],
        [
         2024,
         6,
         "Beverages",
         1352.02
        ],
        [
         2024,
         6,
         "Dairy",
         680.5
        ],
        [
         2024,
         6,
         "Household",
         829.4
        ],
        [
         2024,
         6,
         "Personal Care",
         1226.77
        ],
        [
         2024,
         6,
         "Produce",
         1256.74
        ],
        [
         2024,
         6,
         "Snacks",
         519.85
        ],
        [
         2024,
         7,
         "Bakery",
         2375.34
        ],
        [
         2024,
         7,
         "Beverages",
         6679.84
        ],
        [
         2024,
         7,
         "Dairy",
         392.24
        ],
        [
         2024,
         7,
         "Household",
         768.22
        ],
        [
         2024,
         7,
         "Personal Care",
         1655.4
        ],
        [
         2024,
         7,
         "Produce",
         2258.72
        ],
        [
         2024,
         7,
         "Snacks",
         381.43
        ],
        [
         2024,
         8,
         "Bakery",
         2909.02
        ],
        [
         2024,
         8,
         "Beverages",
         2353.19
        ],
        [
         2024,
         8,
         "Dairy",
         808.94
        ],
        [
         2024,
         8,
         "Household",
         1619.93
        ],
        [
         2024,
         8,
         "Personal Care",
         1539.18
        ],
        [
         2024,
         8,
         "Produce",
         1045.58
        ],
        [
         2024,
         8,
         "Snacks",
         1058.89
        ],
        [
         2024,
         9,
         "Bakery",
         2429.4
        ],
        [
         2024,
         9,
         "Beverages",
         1728.98
        ],
        [
         2024,
         9,
         "Dairy",
         1113.27
        ],
        [
         2024,
         9,
         "Household",
         1294.72
        ],
        [
         2024,
         9,
         "Personal Care",
         1209.33
        ],
        [
         2024,
         9,
         "Produce",
         1615.33
        ],
        [
         2024,
         9,
         "Snacks",
         902.41
        ],
        [
         2024,
         10,
         "Bakery",
         2322.11
        ],
        [
         2024,
         10,
         "Beverages",
         2045.69
        ],
        [
         2024,
         10,
         "Dairy",
         514.6
        ],
        [
         2024,
         10,
         "Household",
         928.12
        ],
        [
         2024,
         10,
         "Personal Care",
         1378.25
        ],
        [
         2024,
         10,
         "Produce",
         1512.14
        ],
        [
         2024,
         10,
         "Snacks",
         466.81
        ],
        [
         2024,
         11,
         "Bakery",
         1365.71
        ],
        [
         2024,
         11,
         "Beverages",
         1850.44
        ],
        [
         2024,
         11,
         "Dairy",
         562.65
        ],
        [
         2024,
         11,
         "Household",
         1173.48
        ],
        [
         2024,
         11,
         "Personal Care",
         1335.05
        ],
        [
         2024,
         11,
         "Produce",
         1426.11
        ],
        [
         2024,
         11,
         "Snacks",
         359.52
        ],
        [
         2024,
         12,
         "Bakery",
         1817.17
        ],
        [
         2024,
         12,
         "Beverages",
         2422.36
        ],
        [
         2024,
         12,
         "Dairy",
         846.16
        ],
        [
         2024,
         12,
         "Household",
         1121.64
        ],
        [
         2024,
         12,
         "Personal Care",
         2000.07
        ],
        [
         2024,
         12,
         "Produce",
         1905.46
        ],
        [
         2024,
         12,
         "Snacks",
         1549.95
        ],
        [
         2025,
         1,
         "Bakery",
         2111.55
        ],
        [
         2025,
         1,
         "Beverages",
         2205.68
        ],
        [
         2025,
         1,
         "Dairy",
         602.4
        ],
        [
         2025,
         1,
         "Household",
         1709.48
        ],
        [
         2025,
         1,
         "Personal Care",
         1580.81
        ],
        [
         2025,
         1,
         "Produce",
         1477.32
        ],
        [
         2025,
         1,
         "Snacks",
         414.01
        ],
        [
         2025,
         2,
         "Bakery",
         1467.19
        ],
        [
         2025,
         2,
         "Beverages",
         1803.0
        ],
        [
         2025,
         2,
         "Dairy",
         292.29
        ],
        [
         2025,
         2,
         "Household",
         523.0
        ],
        [
         2025,
         2,
         "Personal Care",
         1653.78
        ],
        [
         2025,
         2,
         "Produce",
         2333.56
        ],
        [
         2025,
         2,
         "Snacks",
         305.64
        ],
        [
         2025,
         3,
         "Bakery",
         2021.25
        ],
        [
         2025,
         3,
         "Beverages",
         2547.94
        ],
        [
         2025,
         3,
         "Dairy",
         509.52
        ],
        [
         2025,
         3,
         "Household",
         1263.87
        ],
        [
         2025,
         3,
         "Personal Care",
         1432.02
        ],
        [
         2025,
         3,
         "Produce",
         1463.5
        ],
        [
         2025,
         3,
         "Snacks",
         687.45
        ],
        [
         2025,
         4,
         "Bakery",
         2646.48
        ],
        [
         2025,
         4,
         "Beverages",
         1615.54
        ],
        [
         2025,
         4,
         "Dairy",
         541.43
        ],
        [
         2025,
         4,
         "Household",
         799.91
        ],
        [
         2025,
         4,
         "Personal Care",
         1817.36
        ],
        [
         2025,
         4,
         "Produce",
         849.36
        ],
        [
         2025,
         4,
         "Snacks",
         766.26
        ],
        [
         2025,
         5,
         "Bakery",
         3446.84
        ],
        [
         2025,
         5,
         "Beverages",
         1793.98
        ],
        [
         2025,
         5,
         "Dairy",
         916.66
        ],
        [
         2025,
         5,
         "Household",
         925.35
        ],
        [
         2025,
         5,
         "Personal Care",
         2107.29
        ],
        [
         2025,
         5,
         "Produce",
         2197.03
        ],
        [
         2025,
         5,
         "Snacks",
         637.45
        ],
        [
         2025,
         6,
         "Bakery",
         2355.15
        ],
        [
         2025,
         6,
         "Beverages",
         1484.16
        ],
        [
         2025,
         6,
         "Dairy",
         667.57
        ],
        [
         2025,
         6,
         "Household",
         1642.48
        ],
        [
         2025,
         6,
         "Personal Care",
         1427.3
        ],
        [
         2025,
         6,
         "Produce",
         1096.56
        ],
        [
         2025,
         6,
         "Snacks",
         999.2
        ],
        [
         2025,
         7,
         "Bakery",
         2258.48
        ],
        [
         2025,
         7,
         "Beverages",
         2875.45
        ],
        [
         2025,
         7,
         "Dairy",
         680.89
        ],
        [
         2025,
         7,
         "Household",
         1263.8
        ],
        [
         2025,
         7,
         "Personal Care",
         1115.49
        ],
        [
         2025,
         7,
         "Produce",
         1252.91
        ],
        [
         2025,
         7,
         "Snacks",
         569.62
        ],
        [
         2025,
         8,
         "Bakery",
         7289.48
        ],
        [
         2025,
         8,
         "Beverages",
         1384.19
        ],
        [
         2025,
         8,
         "Dairy",
         546.33
        ],
        [
         2025,
         8,
         "Household",
         1627.65
        ],
        [
         2025,
         8,
         "Personal Care",
         1654.49
        ],
        [
         2025,
         8,
         "Produce",
         1357.54
        ],
        [
         2025,
         8,
         "Snacks",
         767.06
        ],
        [
         2025,
         9,
         "Bakery",
         2340.59
        ],
        [
         2025,
         9,
         "Beverages",
         1611.1
        ],
        [
         2025,
         9,
         "Dairy",
         839.75
        ],
        [
         2025,
         9,
         "Household",
         1054.82
        ],
        [
         2025,
         9,
         "Personal Care",
         1581.36
        ],
        [
         2025,
         9,
         "Produce",
         1086.08
        ],
        [
         2025,
         9,
         "Snacks",
         587.4
        ]
       ],
       "datasetInfos": [],
       "dbfsResultPath": null,
       "isJsonSchema": true,
       "metadata": {},
       "overflow": false,
       "plotOptions": {
        "customPlotOptions": {},
        "displayType": "table",
        "pivotAggregation": null,
        "pivotColumns": null,
        "xColumns": null,
        "yColumns": null
       },
       "removedWidgets": [],
       "schema": [
        {
         "metadata": "{}",
         "name": "year",
         "type": "\"integer\""
        },
        {
         "metadata": "{}",
         "name": "month",
         "type": "\"integer\""
        },
        {
         "metadata": "{}",
         "name": "category",
         "type": "\"string\""
        },
        {
         "metadata": "{}",
         "name": "revenue",
         "type": "\"double\""
        }
       ],
       "type": "table"
      }
     },
     "output_type": "display_data"
    },
    {
     "output_type": "display_data",
     "data": {
      "text/html": [
       "<style scoped>\n",
       "  .table-result-container {\n",
       "    max-height: 300px;\n",
       "    overflow: auto;\n",
       "  }\n",
       "  table, th, td {\n",
       "    border: 1px solid black;\n",
       "    border-collapse: collapse;\n",
       "  }\n",
       "  th, td {\n",
       "    padding: 5px;\n",
       "  }\n",
       "  th {\n",
       "    text-align: left;\n",
       "  }\n",
       "</style><div class='table-result-container'><table class='table-result'><thead style='background-color: white'><tr><th>product_id</th><th>product_name</th><th>revenue</th></tr></thead><tbody><tr><td>56</td><td>Bakery Item 56</td><td>10876.69</td></tr><tr><td>1</td><td>Beverages Item 1</td><td>8824.54</td></tr><tr><td>28</td><td>Snacks Item 28</td><td>7696.03</td></tr><tr><td>5</td><td>Bakery Item 5</td><td>7540.5</td></tr><tr><td>17</td><td>Bakery Item 17</td><td>7529.04</td></tr><tr><td>10</td><td>Personal Care Item 10</td><td>6860.11</td></tr><tr><td>45</td><td>Produce Item 45</td><td>6134.35</td></tr><tr><td>7</td><td>Produce Item 7</td><td>6052.37</td></tr><tr><td>50</td><td>Household Item 50</td><td>5817.89</td></tr><tr><td>36</td><td>Beverages Item 36</td><td>5779.0</td></tr></tbody></table></div>"
      ]
     },
     "metadata": {
      "application/vnd.databricks.v1+output": {
       "addedWidgets": {},
       "aggData": [],
       "aggError": "",
       "aggOverflow": false,
       "aggSchema": [],
       "aggSeriesLimitReached": false,
       "aggType": "",
       "arguments": {},
       "columnCustomDisplayInfos": {},
       "data": [
        [
         56,
         "Bakery Item 56",
         10876.69
        ],
        [
         1,
         "Beverages Item 1",
         8824.54
        ],
        [
         28,
         "Snacks Item 28",
         7696.03
        ],
        [
         5,
         "Bakery Item 5",
         7540.5
        ],
        [
         17,
         "Bakery Item 17",
         7529.04
        ],
        [
         10,
         "Personal Care Item 10",
         6860.11
        ],
        [
         45,
         "Produce Item 45",
         6134.35
        ],
        [
         7,
         "Produce Item 7",
         6052.37
        ],
        [
         50,
         "Household Item 50",
         5817.89
        ],
        [
         36,
         "Beverages Item 36",
         5779.0
        ]
       ],
       "datasetInfos": [],
       "dbfsResultPath": null,
       "isJsonSchema": true,
       "metadata": {},
       "overflow": false,
       "plotOptions": {
        "customPlotOptions": {},
        "displayType": "table",
        "pivotAggregation": null,
        "pivotColumns": null,
        "xColumns": null,
        "yColumns": null
       },
       "removedWidgets": [],
       "schema": [
        {
         "metadata": "{}",
         "name": "product_id",
         "type": "\"integer\""
        },
        {
         "metadata": "{}",
         "name": "product_name",
         "type": "\"string\""
        },
        {
         "metadata": "{}",
         "name": "revenue",
         "type": "\"double\""
        }
       ],
       "type": "table"
      }
     },
     "output_type": "display_data"
    }
   ],
   "source": [
    "\n",
    "rev_month_cat = (fact\n",
    "  .groupBy(\"year\",\"month\",\"category\")\n",
    "  .agg(F.round(F.sum(\"total_amount\"),2).alias(\"revenue\"))\n",
    "  .orderBy(\"year\",\"month\",\"category\"))\n",
    "\n",
    "top_products = (fact\n",
    "  .groupBy(\"product_id\",\"product_name\")\n",
    "  .agg(F.round(F.sum(\"total_amount\"),2).alias(\"revenue\"))\n",
    "  .orderBy(F.desc(\"revenue\"))\n",
    "  .limit(10))\n",
    "\n",
    "display(rev_month_cat)\n",
    "display(top_products)\n"
   ]
  },
  {
   "cell_type": "markdown",
   "metadata": {
    "application/vnd.databricks.v1+cell": {
     "cellMetadata": {},
     "inputWidgets": {},
     "nuid": "85c0963f-27e6-46c5-abec-d9344197e8bb",
     "showTitle": false,
     "tableResultSettingsMap": {},
     "title": ""
    }
   },
   "source": [
    "\n",
    "## Window functions: rank largest transactions per store\n"
   ]
  },
  {
   "cell_type": "code",
   "execution_count": 0,
   "metadata": {
    "application/vnd.databricks.v1+cell": {
     "cellMetadata": {
      "byteLimit": 2048000,
      "rowLimit": 10000
     },
     "inputWidgets": {},
     "nuid": "b4014ebf-a23b-437b-807f-cde00530e361",
     "showTitle": false,
     "tableResultSettingsMap": {},
     "title": ""
    }
   },
   "outputs": [
    {
     "output_type": "display_data",
     "data": {
      "text/html": [
       "<style scoped>\n",
       "  .table-result-container {\n",
       "    max-height: 300px;\n",
       "    overflow: auto;\n",
       "  }\n",
       "  table, th, td {\n",
       "    border: 1px solid black;\n",
       "    border-collapse: collapse;\n",
       "  }\n",
       "  th, td {\n",
       "    padding: 5px;\n",
       "  }\n",
       "  th {\n",
       "    text-align: left;\n",
       "  }\n",
       "</style><div class='table-result-container'><table class='table-result'><thead style='background-color: white'><tr><th>store_id</th><th>transaction_id</th><th>total_amount</th><th>rank_in_store</th></tr></thead><tbody><tr><td>1</td><td>235</td><td>315.44</td><td>1</td></tr><tr><td>1</td><td>468</td><td>290.33</td><td>2</td></tr><tr><td>1</td><td>1328</td><td>276.06</td><td>3</td></tr><tr><td>2</td><td>3319</td><td>298.36</td><td>1</td></tr><tr><td>2</td><td>2071</td><td>272.9</td><td>2</td></tr><tr><td>2</td><td>2175</td><td>237.15</td><td>3</td></tr><tr><td>3</td><td>2188</td><td>4841.0</td><td>1</td></tr><tr><td>3</td><td>2780</td><td>1570.0</td><td>2</td></tr><tr><td>3</td><td>71</td><td>327.58</td><td>3</td></tr><tr><td>4</td><td>2099</td><td>346.77</td><td>1</td></tr><tr><td>4</td><td>2628</td><td>266.9</td><td>2</td></tr><tr><td>4</td><td>1184</td><td>266.75</td><td>3</td></tr><tr><td>5</td><td>987</td><td>307.58</td><td>1</td></tr><tr><td>5</td><td>1352</td><td>295.88</td><td>2</td></tr><tr><td>5</td><td>429</td><td>249.56</td><td>3</td></tr><tr><td>6</td><td>1642</td><td>4607.0</td><td>1</td></tr><tr><td>6</td><td>2645</td><td>343.1</td><td>2</td></tr><tr><td>6</td><td>1881</td><td>282.13</td><td>3</td></tr><tr><td>7</td><td>2879</td><td>283.72</td><td>1</td></tr><tr><td>7</td><td>1366</td><td>268.31</td><td>2</td></tr><tr><td>7</td><td>110</td><td>260.05</td><td>3</td></tr><tr><td>8</td><td>941</td><td>244.82</td><td>1</td></tr><tr><td>8</td><td>3012</td><td>201.2</td><td>2</td></tr><tr><td>8</td><td>1170</td><td>199.77</td><td>3</td></tr><tr><td>9</td><td>654</td><td>313.67</td><td>1</td></tr><tr><td>9</td><td>692</td><td>283.4</td><td>2</td></tr><tr><td>9</td><td>2677</td><td>264.0</td><td>3</td></tr><tr><td>10</td><td>1486</td><td>2120.0</td><td>1</td></tr><tr><td>10</td><td>78</td><td>345.79</td><td>2</td></tr><tr><td>10</td><td>291</td><td>314.44</td><td>3</td></tr><tr><td>11</td><td>1453</td><td>261.01</td><td>1</td></tr><tr><td>11</td><td>997</td><td>212.12</td><td>2</td></tr><tr><td>11</td><td>1491</td><td>209.93</td><td>3</td></tr><tr><td>12</td><td>732</td><td>259.62</td><td>1</td></tr><tr><td>12</td><td>1701</td><td>225.54</td><td>2</td></tr><tr><td>12</td><td>2142</td><td>220.9</td><td>3</td></tr></tbody></table></div>"
      ]
     },
     "metadata": {
      "application/vnd.databricks.v1+output": {
       "addedWidgets": {},
       "aggData": [],
       "aggError": "",
       "aggOverflow": false,
       "aggSchema": [],
       "aggSeriesLimitReached": false,
       "aggType": "",
       "arguments": {},
       "columnCustomDisplayInfos": {},
       "data": [
        [
         1,
         235,
         315.44,
         1
        ],
        [
         1,
         468,
         290.33,
         2
        ],
        [
         1,
         1328,
         276.06,
         3
        ],
        [
         2,
         3319,
         298.36,
         1
        ],
        [
         2,
         2071,
         272.9,
         2
        ],
        [
         2,
         2175,
         237.15,
         3
        ],
        [
         3,
         2188,
         4841.0,
         1
        ],
        [
         3,
         2780,
         1570.0,
         2
        ],
        [
         3,
         71,
         327.58,
         3
        ],
        [
         4,
         2099,
         346.77,
         1
        ],
        [
         4,
         2628,
         266.9,
         2
        ],
        [
         4,
         1184,
         266.75,
         3
        ],
        [
         5,
         987,
         307.58,
         1
        ],
        [
         5,
         1352,
         295.88,
         2
        ],
        [
         5,
         429,
         249.56,
         3
        ],
        [
         6,
         1642,
         4607.0,
         1
        ],
        [
         6,
         2645,
         343.1,
         2
        ],
        [
         6,
         1881,
         282.13,
         3
        ],
        [
         7,
         2879,
         283.72,
         1
        ],
        [
         7,
         1366,
         268.31,
         2
        ],
        [
         7,
         110,
         260.05,
         3
        ],
        [
         8,
         941,
         244.82,
         1
        ],
        [
         8,
         3012,
         201.2,
         2
        ],
        [
         8,
         1170,
         199.77,
         3
        ],
        [
         9,
         654,
         313.67,
         1
        ],
        [
         9,
         692,
         283.4,
         2
        ],
        [
         9,
         2677,
         264.0,
         3
        ],
        [
         10,
         1486,
         2120.0,
         1
        ],
        [
         10,
         78,
         345.79,
         2
        ],
        [
         10,
         291,
         314.44,
         3
        ],
        [
         11,
         1453,
         261.01,
         1
        ],
        [
         11,
         997,
         212.12,
         2
        ],
        [
         11,
         1491,
         209.93,
         3
        ],
        [
         12,
         732,
         259.62,
         1
        ],
        [
         12,
         1701,
         225.54,
         2
        ],
        [
         12,
         2142,
         220.9,
         3
        ]
       ],
       "datasetInfos": [],
       "dbfsResultPath": null,
       "isJsonSchema": true,
       "metadata": {},
       "overflow": false,
       "plotOptions": {
        "customPlotOptions": {},
        "displayType": "table",
        "pivotAggregation": null,
        "pivotColumns": null,
        "xColumns": null,
        "yColumns": null
       },
       "removedWidgets": [],
       "schema": [
        {
         "metadata": "{}",
         "name": "store_id",
         "type": "\"integer\""
        },
        {
         "metadata": "{}",
         "name": "transaction_id",
         "type": "\"long\""
        },
        {
         "metadata": "{}",
         "name": "total_amount",
         "type": "\"double\""
        },
        {
         "metadata": "{}",
         "name": "rank_in_store",
         "type": "\"integer\""
        }
       ],
       "type": "table"
      }
     },
     "output_type": "display_data"
    }
   ],
   "source": [
    "\n",
    "w_store = Window.partitionBy(\"store_id\").orderBy(F.desc(\"total_amount\"))\n",
    "ranked = fact.select(\"store_id\",\"transaction_id\",\"total_amount\")              .withColumn(\"rank_in_store\", F.rank().over(w_store))\n",
    "\n",
    "display(ranked.filter(\"rank_in_store <= 3\").orderBy(\"store_id\",\"rank_in_store\"))\n"
   ]
  },
  {
   "cell_type": "markdown",
   "metadata": {
    "application/vnd.databricks.v1+cell": {
     "cellMetadata": {},
     "inputWidgets": {},
     "nuid": "873b440e-45fc-4396-bf63-5cef9367f5b9",
     "showTitle": false,
     "tableResultSettingsMap": {},
     "title": ""
    }
   },
   "source": [
    "\n",
    "## UDF for price buckets and JSON campaign analysis\n"
   ]
  },
  {
   "cell_type": "code",
   "execution_count": 0,
   "metadata": {
    "application/vnd.databricks.v1+cell": {
     "cellMetadata": {
      "byteLimit": 2048000,
      "rowLimit": 10000
     },
     "inputWidgets": {},
     "nuid": "d0ed7f16-af21-4d6f-b958-711a7a72e527",
     "showTitle": false,
     "tableResultSettingsMap": {},
     "title": ""
    }
   },
   "outputs": [
    {
     "output_type": "display_data",
     "data": {
      "text/html": [
       "<style scoped>\n",
       "  .table-result-container {\n",
       "    max-height: 300px;\n",
       "    overflow: auto;\n",
       "  }\n",
       "  table, th, td {\n",
       "    border: 1px solid black;\n",
       "    border-collapse: collapse;\n",
       "  }\n",
       "  th, td {\n",
       "    padding: 5px;\n",
       "  }\n",
       "  th {\n",
       "    text-align: left;\n",
       "  }\n",
       "</style><div class='table-result-container'><table class='table-result'><thead style='background-color: white'><tr><th>price_bucket</th><th>count</th></tr></thead><tbody><tr><td>mid</td><td>1083</td></tr><tr><td>low</td><td>685</td></tr><tr><td>high</td><td>1732</td></tr></tbody></table></div>"
      ]
     },
     "metadata": {
      "application/vnd.databricks.v1+output": {
       "addedWidgets": {},
       "aggData": [],
       "aggError": "",
       "aggOverflow": false,
       "aggSchema": [],
       "aggSeriesLimitReached": false,
       "aggType": "",
       "arguments": {},
       "columnCustomDisplayInfos": {},
       "data": [
        [
         "mid",
         1083
        ],
        [
         "low",
         685
        ],
        [
         "high",
         1732
        ]
       ],
       "datasetInfos": [],
       "dbfsResultPath": null,
       "isJsonSchema": true,
       "metadata": {},
       "overflow": false,
       "plotOptions": {
        "customPlotOptions": {},
        "displayType": "table",
        "pivotAggregation": null,
        "pivotColumns": null,
        "xColumns": null,
        "yColumns": null
       },
       "removedWidgets": [],
       "schema": [
        {
         "metadata": "{}",
         "name": "price_bucket",
         "type": "\"string\""
        },
        {
         "metadata": "{}",
         "name": "count",
         "type": "\"long\""
        }
       ],
       "type": "table"
      }
     },
     "output_type": "display_data"
    },
    {
     "output_type": "display_data",
     "data": {
      "text/html": [
       "<style scoped>\n",
       "  .table-result-container {\n",
       "    max-height: 300px;\n",
       "    overflow: auto;\n",
       "  }\n",
       "  table, th, td {\n",
       "    border: 1px solid black;\n",
       "    border-collapse: collapse;\n",
       "  }\n",
       "  th, td {\n",
       "    padding: 5px;\n",
       "  }\n",
       "  th {\n",
       "    text-align: left;\n",
       "  }\n",
       "</style><div class='table-result-container'><table class='table-result'><thead style='background-color: white'><tr><th>campaign</th><th>tx</th><th>revenue</th></tr></thead><tbody><tr><td>BackToSchool</td><td>894</td><td>56831.78</td></tr><tr><td>None</td><td>887</td><td>56120.14</td></tr><tr><td>SpringSale</td><td>873</td><td>52165.78</td></tr><tr><td>BlackFriday</td><td>846</td><td>51400.41</td></tr></tbody></table></div>"
      ]
     },
     "metadata": {
      "application/vnd.databricks.v1+output": {
       "addedWidgets": {},
       "aggData": [],
       "aggError": "",
       "aggOverflow": false,
       "aggSchema": [],
       "aggSeriesLimitReached": false,
       "aggType": "",
       "arguments": {},
       "columnCustomDisplayInfos": {},
       "data": [
        [
         "BackToSchool",
         894,
         56831.78
        ],
        [
         "None",
         887,
         56120.14
        ],
        [
         "SpringSale",
         873,
         52165.78
        ],
        [
         "BlackFriday",
         846,
         51400.41
        ]
       ],
       "datasetInfos": [],
       "dbfsResultPath": null,
       "isJsonSchema": true,
       "metadata": {},
       "overflow": false,
       "plotOptions": {
        "customPlotOptions": {},
        "displayType": "table",
        "pivotAggregation": null,
        "pivotColumns": null,
        "xColumns": null,
        "yColumns": null
       },
       "removedWidgets": [],
       "schema": [
        {
         "metadata": "{}",
         "name": "campaign",
         "type": "\"string\""
        },
        {
         "metadata": "{}",
         "name": "tx",
         "type": "\"long\""
        },
        {
         "metadata": "{}",
         "name": "revenue",
         "type": "\"double\""
        }
       ],
       "type": "table"
      }
     },
     "output_type": "display_data"
    }
   ],
   "source": [
    "\n",
    "from pyspark.sql.types import StringType\n",
    "\n",
    "@F.udf(StringType())\n",
    "def price_bucket(x):\n",
    "    if x is None: return \"unknown\"\n",
    "    return \"low\" if x < 10 else (\"mid\" if x < 30 else \"high\")\n",
    "\n",
    "with_bucket = fact.withColumn(\"price_bucket\", price_bucket(\"unit_price\"))\n",
    "display(with_bucket.groupBy(\"price_bucket\").count())\n",
    "\n",
    "campaign_perf = (fact\n",
    "  .withColumn(\"campaign\", F.col(\"promo_meta.campaign\"))\n",
    "  .groupBy(\"campaign\").agg(F.count(\"*\").alias(\"tx\"), F.round(F.sum(\"total_amount\"),2).alias(\"revenue\"))\n",
    "  .orderBy(F.desc(\"revenue\")))\n",
    "\n",
    "display(campaign_perf)\n"
   ]
  }
 ],
 "metadata": {
  "application/vnd.databricks.v1+notebook": {
   "computePreferences": null,
   "dashboards": [],
   "environmentMetadata": null,
   "inputWidgetPreferences": null,
   "language": "python",
   "notebookMetadata": {
    "pythonIndentUnit": 4
   },
   "notebookName": "pyspark_retail_case_study_FREE_safe",
   "widgets": {}
  },
  "language_info": {
   "name": "python"
  }
 },
 "nbformat": 4,
 "nbformat_minor": 0
}